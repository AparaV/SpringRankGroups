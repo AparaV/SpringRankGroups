{
 "cells": [
  {
   "cell_type": "markdown",
   "metadata": {},
   "source": [
    "# Time It\n",
    "Notebook to compare times for different implementation"
   ]
  },
  {
   "cell_type": "code",
   "execution_count": 2,
   "metadata": {},
   "outputs": [],
   "source": [
    "import numpy as np\n",
    "import matplotlib.pyplot as plt\n",
    "\n",
    "import numpy.linalg as LA\n",
    "\n",
    "from time import process_time\n",
    "from tools import get_optimal_temperature\n",
    "\n",
    "%matplotlib inline"
   ]
  },
  {
   "cell_type": "code",
   "execution_count": 14,
   "metadata": {},
   "outputs": [],
   "source": [
    "def timeit(f, **kwargs):\n",
    "    t = process_time()\n",
    "    _ = f(*tuple(value for _, value in kwargs.items()))\n",
    "    elapsed_time = process_time() - t\n",
    "    return elapsed_time"
   ]
  },
  {
   "cell_type": "code",
   "execution_count": null,
   "metadata": {},
   "outputs": [],
   "source": []
  },
  {
   "cell_type": "markdown",
   "metadata": {},
   "source": [
    "Test #1"
   ]
  },
  {
   "cell_type": "code",
   "execution_count": 3,
   "metadata": {},
   "outputs": [],
   "source": [
    "def test_1(k_in, k_out, N):\n",
    "    D = np.diag(k_out + k_in)\n",
    "    D_hat = k_out - k_in\n",
    "\n",
    "def test_2(k_in, k_out, N):\n",
    "    D = np.zeros((N, N))\n",
    "    D_hat = np.zeros(N)\n",
    "    for i in range(N):\n",
    "        D[i, i] = k_out[i] + k_out[i]\n",
    "        D_hat[i] = k_out[i] - k_in[i]"
   ]
  },
  {
   "cell_type": "code",
   "execution_count": null,
   "metadata": {},
   "outputs": [],
   "source": [
    "num_sim = 10\n",
    "N = np.arange(1000, 10000, 500)\n",
    "\n",
    "times_1 = []\n",
    "times_2 = []\n",
    "\n",
    "for n in N:\n",
    "    imp_1 = 0\n",
    "    imp_2 = 0\n",
    "    for i in range(num_sim):\n",
    "        A = np.random.randint(0, 100, (n, n))\n",
    "        k_in = np.sum(A, 0)\n",
    "        k_out = np.sum(A, 1)\n",
    "        \n",
    "        args = {\"k_in\": k_in, \"k_out\": k_out, \"N\": n}\n",
    "        \n",
    "        # Implementation 1\n",
    "        imp_1 += timeit(test_1, k_in=k_in, k_out=k_out, N=n)\n",
    "        \n",
    "        # Implementation 2\n",
    "        imp_2 += timeit(test_2,  k_in=k_in, k_out=k_out, N=n)\n",
    "    \n",
    "    times_1.append(imp_1 / num_sim)\n",
    "    times_2.append(imp_2 / num_sim)"
   ]
  },
  {
   "cell_type": "markdown",
   "metadata": {},
   "source": [
    "Numpy is faster"
   ]
  },
  {
   "cell_type": "code",
   "execution_count": null,
   "metadata": {},
   "outputs": [],
   "source": []
  }
 ],
 "metadata": {
  "kernelspec": {
   "display_name": "Python 3",
   "language": "python",
   "name": "python3"
  },
  "language_info": {
   "codemirror_mode": {
    "name": "ipython",
    "version": 3
   },
   "file_extension": ".py",
   "mimetype": "text/x-python",
   "name": "python",
   "nbconvert_exporter": "python",
   "pygments_lexer": "ipython3",
   "version": "3.7.3"
  }
 },
 "nbformat": 4,
 "nbformat_minor": 2
}
