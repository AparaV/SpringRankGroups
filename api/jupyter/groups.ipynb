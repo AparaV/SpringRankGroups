{
 "cells": [
  {
   "cell_type": "code",
   "execution_count": 1,
   "metadata": {},
   "outputs": [],
   "source": [
    "import networkx as nx\n",
    "import numpy as np\n",
    "import matplotlib.pyplot as plt\n",
    "import numpy.linalg as LA\n",
    "import scipy.sparse.linalg as spLA\n",
    "\n",
    "from scipy import sparse as sp\n",
    "\n",
    "import sys\n",
    "sys.path.insert(1, '../')\n",
    "\n",
    "import SpringRank_tools as sr\n",
    "import tools as tl\n",
    "\n",
    "%load_ext autoreload\n",
    "%aimport SpringRank_tools\n",
    "%aimport tools\n",
    "%autoreload 1\n",
    "\n",
    "%matplotlib inline"
   ]
  },
  {
   "cell_type": "markdown",
   "metadata": {},
   "source": [
    "## Generate a directed network"
   ]
  },
  {
   "cell_type": "markdown",
   "metadata": {},
   "source": [
    "## Inferring ranks and group preferences\n",
    "\n",
    "\n",
    "$$ H^{++} = H(s, \\theta) + \\tfrac{1}{2} \\lambda_s ||s||_2^2 + \\tfrac{1}{2} \\lambda_{\\theta} ||\\theta||_2^2 $$\n",
    "\n",
    "Want to solve:\n",
    "$$\\begin{align}\n",
    "\\nabla H^{++} &= 0 \\\\\n",
    "\\implies \\nabla_s : \\nabla_s H + \\lambda_s s &= 0, \\\\\n",
    "\\nabla_{\\theta} : \\nabla_{\\theta} H + \\lambda_{\\theta} \\theta &= 0\n",
    "\\end{align}$$\n",
    "\n",
    "Define:\n",
    "$$\\begin{align}\n",
    "\\Lambda_s &= \\lambda_s I_{N} \\\\\n",
    "\\Lambda_{\\theta} &= \\lambda_{\\theta} I_{k}\n",
    "\\end{align}$$\n",
    "\n",
    "So, solve:\n",
    "$$\n",
    "\\begin{bmatrix}\n",
    "L + \\Lambda_s & LG \\\\\n",
    "G^T L & G^T LG + \\Lambda_{\\theta}\n",
    "\\end{bmatrix} \\begin{bmatrix}\n",
    "s \\\\\n",
    "\\theta \\\\\n",
    "\\end{bmatrix} = \\begin{bmatrix}\n",
    "\\hat{d} \\\\\n",
    "G^{T} \\hat{d}\n",
    "\\end{bmatrix}\n",
    "$$"
   ]
  },
  {
   "cell_type": "code",
   "execution_count": 32,
   "metadata": {},
   "outputs": [],
   "source": [
    "def assign_groups(N, k, rand_seed=None):\n",
    "    np.random.seed(rand_seed)\n",
    "    groups = np.random.randint(0, k, N)\n",
    "    G = np.zeros((N, k))\n",
    "    for i, g_i in enumerate(groups):\n",
    "        G[i, g_i] = 1\n",
    "    \n",
    "    return groups, G\n",
    "\n",
    "def generate_ranks(N, G, s_params, theta_params, rand_seed=None):\n",
    "    \n",
    "    np.random.seed(rand_seed)\n",
    "    s = np.random.normal(s_params[0], s_params[1], N)\n",
    "\n",
    "    np.random.seed(rand_seed)\n",
    "    theta = np.random.normal(theta_params[0], theta_params[1], G.shape[1])\n",
    "\n",
    "    ranks = s + np.matmul(G, theta)\n",
    "    \n",
    "    return s, theta, ranks\n",
    "\n",
    "def generate_network(N, beta, ranks, avg_degree, rand_seed=None):\n",
    "\n",
    "    scaled_exp_energy = np.zeros((N, N))\n",
    "    Z = 0\n",
    "    for i in range(N):\n",
    "        for j in range(N):\n",
    "            energy_ij = 0.5 * np.power(ranks[i]-ranks[j]-1, 2)\n",
    "            scaled_exp_energy[i, j] = np.exp(-beta * energy_ij)\n",
    "            Z += scaled_exp_energy[i, j]\n",
    "    c = float(avg_degree * N) / Z\n",
    "    \n",
    "    A = np.zeros((N, N))\n",
    "    for i in range(N):\n",
    "        for j in range(N):\n",
    "            if i == j:\n",
    "                continue\n",
    "\n",
    "            lambda_ij = c * scaled_exp_energy[i, j]\n",
    "            A[i, j] = np.random.poisson(lambda_ij)\n",
    "            \n",
    "    return A"
   ]
  },
  {
   "cell_type": "code",
   "execution_count": 82,
   "metadata": {},
   "outputs": [],
   "source": [
    "def solve_springrank_sparse(A, G, lamb_s, lamb_theta, solver):\n",
    "    \n",
    "    # Get array shapes\n",
    "    k = G.shape[1]\n",
    "    N, M = A.shape\n",
    "    assert(N == M)\n",
    "    \n",
    "    # Construct Laplacian\n",
    "    k_in = np.sum(A, 0)\n",
    "    k_out = np.sum(A, 1)\n",
    "    D = np.diag(k_out + k_in)\n",
    "    L = D - (A + A.T)\n",
    "    \n",
    "    # Make everything sparse\n",
    "    L = sp.csr_matrix(L)\n",
    "    G = sp.csr_matrix(G)\n",
    "    I_n = sp.eye(N)\n",
    "    I_k = sp.eye(k)\n",
    "    \n",
    "    # Construct the LHS matrix\n",
    "    block_1 = L + lamb_s*I_n\n",
    "    block_2 = L @ G\n",
    "    block_3 = G.T @ L\n",
    "    block_4 = G.T @ block_2 + lamb_theta*I_k\n",
    "    top = sp.hstack([block_1, block_2])\n",
    "    bot = sp.hstack([block_3, block_4])\n",
    "    K = sp.vstack([top, bot])\n",
    "    \n",
    "    # Construct RHS vector (dense)\n",
    "    d_top = k_out - k_in\n",
    "    d_bot = np.matmul(G.T.toarray(), d_top)\n",
    "    d_hat = np.append(d_top, d_bot, axis=0)\n",
    "    \n",
    "    # Solve using sparse or iterative solvers\n",
    "    if solver == 'spsolve':\n",
    "        x = spLA.spsolve(K, d_hat)\n",
    "    elif solver == 'bicgstab':\n",
    "        output = spLA.bicgstab(K, d_hat)\n",
    "        x = output[0]\n",
    "    elif solver == 'lsqr':\n",
    "        output = spLA.lsqr(K, d_hat)\n",
    "        x = output[0]\n",
    "    else:\n",
    "        output = spLA.bicgstab(K, d_hat)\n",
    "        x = output[0]\n",
    "    \n",
    "    # Make x dense\n",
    "    try:\n",
    "        x = x.toarray()\n",
    "    except AttributeError:\n",
    "        pass\n",
    "    \n",
    "    ranks = {}\n",
    "    ranks[\"individual_scores\"] = x[:N]\n",
    "    ranks[\"group_penalties\"] = x[N:]\n",
    "    \n",
    "    return ranks\n",
    "\n",
    "def solve_springrank_dense(A, G, lamb_s, lamb_theta):\n",
    "    \n",
    "    k = G.shape[1]\n",
    "    N, M = A.shape\n",
    "    assert(N == M)\n",
    "    \n",
    "    # Construct Laplacian\n",
    "    d_out = np.sum(A, axis=1)\n",
    "    d_in = np.sum(A, axis=0)\n",
    "    D_out = np.diag(d_out)\n",
    "    D_in = np.diag(d_in)\n",
    "    L = D_out + D_in - (A + A.T)\n",
    "    \n",
    "    # Construct LHS matrix\n",
    "    block_1 = L + lamb_s * np.eye(N)\n",
    "    block_2 = np.matmul(L, G)\n",
    "    block_3 = np.matmul(G.T, L)\n",
    "    block_4 = np.matmul(G.T, block_2) + lamb_theta * np.eye(k)\n",
    "    top = np.append(block_1, block_2, axis=1)\n",
    "    bottom = np.append(block_3, block_4, axis=1)\n",
    "    K = np.append(top, bottom, axis=0)\n",
    "    \n",
    "    # Construct RHS vector\n",
    "    d_top = d_out - d_in\n",
    "    d_bottom = np.matmul(G.T, d_top)\n",
    "    d = np.append(d_top, d_bottom, axis=0)\n",
    "    \n",
    "    # Solve\n",
    "    x, res, rank, eig = LA.lstsq(K, d, rcond=None)\n",
    "    \n",
    "    ranks = {}\n",
    "    ranks[\"individual_scores\"] = x[:N]\n",
    "    ranks[\"group_penalties\"] = x[N:]\n",
    "    \n",
    "    return ranks\n",
    "\n",
    "def get_springranks(A, G, lamb_s, lamb_theta, sparse=True, solver='spsolve'):\n",
    "    if sparse:\n",
    "        x = solve_springrank_sparse(A, G, lamb_s, lamb_theta, solver)\n",
    "    else:\n",
    "        x = solve_springrank_dense(A, G, lamb_s, lamb_theta)\n",
    "    \n",
    "    N = A.shape[0]\n",
    "    s = x[\"individual_scores\"]\n",
    "    theta = x[\"group_penalties\"]\n",
    "    ranks = s + np.matmul(G, theta)\n",
    "    ranks = ranks - np.min(ranks)\n",
    "    \n",
    "    return s, theta, ranks"
   ]
  },
  {
   "cell_type": "markdown",
   "metadata": {},
   "source": [
    "## Simulations"
   ]
  },
  {
   "cell_type": "markdown",
   "metadata": {},
   "source": [
    "- Define an error function to tune for regularization coefficients?"
   ]
  },
  {
   "cell_type": "code",
   "execution_count": 4,
   "metadata": {},
   "outputs": [
    {
     "name": "stdout",
     "output_type": "stream",
     "text": [
      "<class 'numpy.matrix'>\n",
      "<class 'numpy.ndarray'>\n"
     ]
    }
   ],
   "source": [
    "N = 500\n",
    "num_groups = 4\n",
    "beta = 4\n",
    "p_ij = 1 / (1 + np.exp(-2*beta))\n",
    "l0 = 0.5\n",
    "alpha = 1\n",
    "s_params = (l0, 1./np.sqrt(alpha*beta))\n",
    "l0_g = 0\n",
    "alpha_g = 1\n",
    "theta_params = (l0_g, 1./np.sqrt(alpha_g*beta))\n",
    "K = 10\n",
    "\n",
    "# groups, G = assign_groups(N, num_groups)\n",
    "# s, theta, ranks = generate_ranks(N, G, s_params, theta_params)\n",
    "# ranks = ranks - np.min(ranks)\n",
    "# A = generate_network(N, beta, ranks, K)\n",
    "\n",
    "A, G, s, theta, ranks = sr.SpringRank_planted_network_groups(\n",
    "                            N, num_groups, beta, alpha, alpha_g, K, np.random, l0, l0_g, l1=1,\n",
    "                            allow_self_loops=False, return_ranks=True)\n",
    "\n",
    "A = np.array(nx.to_numpy_matrix(A))"
   ]
  },
  {
   "cell_type": "code",
   "execution_count": 84,
   "metadata": {},
   "outputs": [
    {
     "name": "stdout",
     "output_type": "stream",
     "text": [
      "    s mean:  8.171241461241152e-17\n",
      "theta mean:  1.9470536294363683e-14\n",
      "1.0476428084674188\n"
     ]
    }
   ],
   "source": [
    "lamb_s = 1e-1\n",
    "lamb_theta = 1e-1\n",
    "\n",
    "s_est, theta_est, ranks_est = get_springranks(A, G, lamb_s, lamb_theta,\n",
    "                                              sparse=True, solver='bicgstab')\n",
    "\n",
    "print(\"    s mean: \", np.mean(s_est))\n",
    "print(\"theta mean: \", np.mean(theta_est))\n",
    "\n",
    "scaled_ranks = tl.adjust_ranks(ranks_est, A, p_ij=p_ij)"
   ]
  },
  {
   "cell_type": "code",
   "execution_count": 86,
   "metadata": {},
   "outputs": [
    {
     "data": {
      "image/png": "[encoded data removed]",
      "text/plain": [
       "<Figure size 576x432 with 1 Axes>"
      ]
     },
     "metadata": {
      "needs_background": "light"
     },
     "output_type": "display_data"
    }
   ],
   "source": [
    "alpha = 0.5\n",
    "\n",
    "plt.figure(figsize=(8,6))\n",
    "\n",
    "for i in range(np.max(groups)+1):\n",
    "    plt.scatter(ranks[groups==i],\n",
    "                scaled_ranks[groups==i],\n",
    "                marker='x', alpha=alpha,\n",
    "                label=\"group {}\".format(i))\n",
    "\n",
    "plt.axis('square')\n",
    "plt.ylabel(\"estimate\")\n",
    "plt.xlabel(\"true\")\n",
    "\n",
    "plt.legend()\n",
    "\n",
    "plt.show()"
   ]
  },
  {
   "cell_type": "code",
   "execution_count": 81,
   "metadata": {},
   "outputs": [
    {
     "data": {
      "image/png": "[encoded data removed]",
      "text/plain": [
       "<Figure size 432x288 with 1 Axes>"
      ]
     },
     "metadata": {
      "needs_background": "light"
     },
     "output_type": "display_data"
    }
   ],
   "source": [
    "for i in range(np.max(groups)+1):\n",
    "    plt.scatter(theta[i] - np.min(theta),\n",
    "                theta_est[i] - np.min(theta),\n",
    "                marker='x',\n",
    "                label=\"group {}\".format(i))\n",
    "\n",
    "plt.axis('square')\n",
    "plt.ylabel(\"estimate\")\n",
    "plt.xlabel(\"true\")\n",
    "\n",
    "plt.legend()\n",
    "\n",
    "plt.show()"
   ]
  },
  {
   "cell_type": "markdown",
   "metadata": {},
   "source": [
    "- How to recover $\\beta$\n",
    "- Things that we need to recover ranks\n",
    "- Things that we need to recover group penalties\n",
    "- Regularization - Identify correct regularization coefficients\n",
    "- ~Use a sparse/iterative solver~\n",
    "- See results for different $k, N$"
   ]
  },
  {
   "cell_type": "code",
   "execution_count": null,
   "metadata": {},
   "outputs": [],
   "source": []
  }
 ],
 "metadata": {
  "kernelspec": {
   "display_name": "Python 3",
   "language": "python",
   "name": "python3"
  },
  "language_info": {
   "codemirror_mode": {
    "name": "ipython",
    "version": 3
   },
   "file_extension": ".py",
   "mimetype": "text/x-python",
   "name": "python",
   "nbconvert_exporter": "python",
   "pygments_lexer": "ipython3",
   "version": "3.7.3"
  }
 },
 "nbformat": 4,
 "nbformat_minor": 2
}
