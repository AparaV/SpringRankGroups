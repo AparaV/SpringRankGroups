{
 "cells": [
  {
   "cell_type": "code",
   "execution_count": 1,
   "metadata": {},
   "outputs": [],
   "source": [
    "import numpy as np\n",
    "import matplotlib.pyplot as plt\n",
    "import numpy.linalg as LA\n",
    "import scipy.sparse.linalg as spLA\n",
    "\n",
    "from scipy import sparse as sp\n",
    "\n",
    "import sys\n",
    "sys.path.insert(1, '../')\n",
    "\n",
    "from tools import get_optimal_temperature\n",
    "\n",
    "%matplotlib inline"
   ]
  },
  {
   "cell_type": "markdown",
   "metadata": {},
   "source": [
    "## Generate a directed network"
   ]
  },
  {
   "cell_type": "markdown",
   "metadata": {},
   "source": [
    "## Inferring ranks and group preferences\n",
    "\n",
    "$$ H^{++} = H(s, \\theta) + \\frac{1}{2} \\lambda_s ||s||_2^2 + \\frac{1}{2} \\lambda_{\\theta} ||\\theta||_2^2 $$\n",
    "\n",
    "Want to solve:\n",
    "$$\\begin{align}\n",
    "\\nabla H^{++} &= 0 \\\\\n",
    "\\implies \\nabla_s : \\nabla_s H + \\lambda_s s &= 0, \\\\\n",
    "\\nabla_{\\theta} : \\nabla_{\\theta} H + \\lambda_{\\theta} \\theta &= 0\n",
    "\\end{align}$$\n",
    "\n",
    "Define:\n",
    "$$\\begin{align}\n",
    "\\Lambda_s &= \\lambda_s I_{N} \\\\\n",
    "\\Lambda_{\\theta} &= \\lambda_{\\theta} I_{k}\n",
    "\\end{align}$$\n",
    "\n",
    "So, solve:\n",
    "$$\n",
    "\\begin{bmatrix}\n",
    "L + \\Lambda_s & LG \\\\\n",
    "G^T L & G^T LG + \\Lambda_{\\theta}\n",
    "\\end{bmatrix} \\begin{bmatrix}\n",
    "s \\\\\n",
    "\\theta \\\\\n",
    "\\end{bmatrix} = \\begin{bmatrix}\n",
    "\\hat{d} \\\\\n",
    "G^{T} \\hat{d}\n",
    "\\end{bmatrix}\n",
    "$$"
   ]
  },
  {
   "cell_type": "code",
   "execution_count": 2,
   "metadata": {},
   "outputs": [],
   "source": [
    "def assign_groups(N, k, rand_seed=None):\n",
    "    np.random.seed(rand_seed)\n",
    "    groups = np.random.randint(0, k, N)\n",
    "    G = np.zeros((N, k))\n",
    "    for i, g_i in enumerate(groups):\n",
    "        G[i, g_i] = 1\n",
    "    \n",
    "    return groups, G\n",
    "\n",
    "def generate_ranks(N, G, s_params, theta_params, rand_seed=None):\n",
    "    \n",
    "    np.random.seed(rand_seed)\n",
    "    s = np.random.normal(s_params[0], s_params[1]**2, N)\n",
    "\n",
    "    np.random.seed(rand_seed)\n",
    "    theta = np.random.normal(theta_params[0], theta_params[1]**2, G.shape[1])\n",
    "\n",
    "    ranks = s + np.matmul(G, theta)\n",
    "    \n",
    "    return s, theta, ranks\n",
    "\n",
    "def generate_network(N, beta, ranks, avg_degree, rand_seed=None):\n",
    "\n",
    "\n",
    "#     P = np.zeros((N, N))\n",
    "#     for i in range(N):\n",
    "#         for j in range(N):\n",
    "#             energy = -2 * beta * (ranks[i] - ranks[j])\n",
    "#             P[i,j] = 1 / (1 + np.exp(energy))\n",
    "\n",
    "#     np.random.seed(rand_seed)\n",
    "#     num_games = np.random.poisson(max_games//2, (N, N))\n",
    "#     num_games = num_games + num_games.T # Quick fix to make this matrix symmetric\n",
    "#     np.fill_diagonal(num_games, 0) # i cannot play against itself\n",
    "\n",
    "#     A = np.zeros((N, N))\n",
    "#     for i in range(0, N):\n",
    "#         for j in range(i, N):\n",
    "#             games_won = np.random.binomial(num_games[i,j], P[i,j])\n",
    "#             A[i,j] = games_won\n",
    "#             A[j,i] = num_games[i,j] - games_won\n",
    "\n",
    "    scaled_exp_energy = np.zeros((N, N))\n",
    "    Z = 0\n",
    "    for i in range(N):\n",
    "        for j in range(N):\n",
    "            energy_ij = 0.5 * np.power(ranks[i]-ranks[j]-1, 2)\n",
    "            scaled_exp_energy[i, j] = np.exp(-beta * energy_ij)\n",
    "            Z += scaled_exp_energy[i, j]\n",
    "    c = float(avg_degree * N) / Z\n",
    "    \n",
    "    A = np.zeros((N, N))\n",
    "    for i in range(N):\n",
    "        for j in range(N):\n",
    "            if i == j:\n",
    "                continue\n",
    "\n",
    "            lambda_ij = c * scaled_exp_energy[i, j]\n",
    "            A[i, j] = np.random.poisson(lambda_ij)\n",
    "            \n",
    "    return A"
   ]
  },
  {
   "cell_type": "code",
   "execution_count": 3,
   "metadata": {},
   "outputs": [],
   "source": [
    "def solve_springrank_sparse(A, G, lamb_s, lamb_theta, solver='spsolve'):\n",
    "    \n",
    "    # Get array shapes\n",
    "    k = G.shape[1]\n",
    "    N, M = A.shape\n",
    "    assert(N == M)\n",
    "    \n",
    "    # Construct Laplacian\n",
    "    # Look into scipy.sparse.csgraph.laplacian for sparse implementation\n",
    "    k_in = np.sum(A, 0)\n",
    "    k_out = np.sum(A, 1)\n",
    "    D = np.diag(k_out + k_in)\n",
    "    L = D - (A + A.T)\n",
    "    \n",
    "    # Make everything sparse\n",
    "    L = sp.csr_matrix(L)\n",
    "    G = sp.csr_matrix(G)\n",
    "    I_n = sp.eye(N)\n",
    "    I_k = sp.eye(k)\n",
    "    \n",
    "    # Construct the LHS matrix\n",
    "    block_1 = L + lamb_s*I_n\n",
    "    block_2 = L @ G\n",
    "    block_3 = G.T @ L\n",
    "    block_4 = G.T @ block_2 + lamb_theta*I_k\n",
    "    top = sp.hstack([block_1, block_2])\n",
    "    bot = sp.hstack([block_3, block_4])\n",
    "    K = sp.vstack([top, bot])\n",
    "    \n",
    "    # Construct RHS vector\n",
    "    # # d_top = sp.csr_matrix(k_out - k_in).T\n",
    "    # # d_bot = G.T @ d_top\n",
    "    # # d_hat = sp.vstack([d_top, d_bot])\n",
    "    d_top = k_out - k_in\n",
    "    d_bot = np.matmul(G.T.toarray(), d_top)\n",
    "    d_hat = np.append(d_top, d_bot, axis=0)\n",
    "    \n",
    "    # Solve using sparse or iterative solvers\n",
    "    if solver == 'spsolve':\n",
    "        x = spLA.spsolve(K, d_hat)\n",
    "    elif solver == 'bicgstab':\n",
    "        output = spLA.bicgstab(K, d_hat) #.toarray())\n",
    "        x = output[0]\n",
    "    elif solver == 'lsqr':\n",
    "        output = spLA.lsqr(K, d_hat) #.toarray())\n",
    "        x = output[0]\n",
    "    else:\n",
    "        output = spLA.bicgstab(K, d_hat) #.toarray())\n",
    "        x = output[0]\n",
    "    \n",
    "    # Make x dense\n",
    "    try:\n",
    "        x = x.toarray()\n",
    "    except AttributeError:\n",
    "        pass\n",
    "    \n",
    "    print(x.shape)\n",
    "    \n",
    "    return x\n",
    "\n",
    "def solve_springrank_dense(A, G, lamb_s, lamb_theta):\n",
    "    \n",
    "    k = G.shape[1]\n",
    "    N, M = A.shape\n",
    "    assert(N == M)\n",
    "    \n",
    "    # Construct Laplacian\n",
    "    d_out = np.sum(A, axis=1)\n",
    "    d_in = np.sum(A, axis=0)\n",
    "    D_out = np.diag(d_out)\n",
    "    D_in = np.diag(d_in)\n",
    "    L = D_out + D_in - (A + A.T)\n",
    "    \n",
    "    # Construct LHS matrix\n",
    "    block_1 = L + lamb_s * np.eye(N)\n",
    "    block_2 = np.matmul(L, G)\n",
    "    block_3 = np.matmul(G.T, L)\n",
    "    block_4 = np.matmul(G.T, block_2) + lamb_theta * np.eye(k)\n",
    "    top = np.append(block_1, block_2, axis=1)\n",
    "    bottom = np.append(block_3, block_4, axis=1)\n",
    "    K = np.append(top, bottom, axis=0)\n",
    "    \n",
    "    # Construct RHS vector\n",
    "    d_top = d_out - d_in\n",
    "    d_bottom = np.matmul(G.T, d_top)\n",
    "    d = np.append(d_top, d_bottom, axis=0)\n",
    "    \n",
    "    # Solve\n",
    "    x, res, rank, eig = LA.lstsq(K, d, rcond=None)\n",
    "    \n",
    "    return x"
   ]
  },
  {
   "cell_type": "markdown",
   "metadata": {},
   "source": [
    "## Simulations"
   ]
  },
  {
   "cell_type": "code",
   "execution_count": 4,
   "metadata": {},
   "outputs": [],
   "source": [
    "N = 500\n",
    "k = 4\n",
    "beta = 4\n",
    "s_params = (0, 1)\n",
    "theta_params = (0, 1)\n",
    "avg_degree = 10\n",
    "\n",
    "groups, G = assign_groups(N, k)\n",
    "s, theta, ranks = generate_ranks(N, G, s_params, theta_params)\n",
    "A = generate_network(N, beta, ranks, avg_degree)"
   ]
  },
  {
   "cell_type": "markdown",
   "metadata": {},
   "source": [
    "- Define an error function to tune for regularization coefficients?"
   ]
  },
  {
   "cell_type": "code",
   "execution_count": 5,
   "metadata": {},
   "outputs": [
    {
     "name": "stdout",
     "output_type": "stream",
     "text": [
      "(504,)\n"
     ]
    }
   ],
   "source": [
    "lamb_s = 1e-5\n",
    "lamb_theta = 1e-5\n",
    "\n",
    "x_sp = solve_springrank_sparse(A, G, lamb_s, lamb_theta, solver='bicgstab')\n",
    "\n",
    "# x_dense = solve_springrank_dense(A, G, lamb_s, lamb_theta)\n",
    "# err = LA.norm(x_sp - x_dense)\n",
    "# print(err)"
   ]
  },
  {
   "cell_type": "code",
   "execution_count": 6,
   "metadata": {},
   "outputs": [],
   "source": [
    "s_est = x_sp[:N]\n",
    "theta_est = x_sp[N:]\n",
    "ranks_est = s_est + np.matmul(G, theta_est)"
   ]
  },
  {
   "cell_type": "code",
   "execution_count": 7,
   "metadata": {},
   "outputs": [],
   "source": [
    "# beta_hat = []\n",
    "# for i in range(N):\n",
    "#     for j in range(i+1, N):\n",
    "#         beta_ij = 1 / (ranks_est[i] - ranks_est[j]) * np.log((A[i,j] + 1) / (A[j,i] + 1))\n",
    "#         beta_hat.append(beta_ij)\n",
    "# beta_hat_avg = np.mean(beta_hat)\n",
    "        \n",
    "# beta_est = get_optimal_temperature(ranks_est, A)\n",
    "\n",
    "# print(beta_hat_avg)\n",
    "# print(beta_est)\n",
    "\n",
    "# # plt.figure(figsize=(8,6))\n",
    "# # plt.scatter(list(range(N*(N-1)//2)), beta_hat, s=10, marker='.')\n",
    "# # plt.show()"
   ]
  },
  {
   "cell_type": "code",
   "execution_count": 8,
   "metadata": {},
   "outputs": [
    {
     "data": {
      "image/png": "[encoded data removed]",
      "text/plain": [
       "<Figure size 576x432 with 1 Axes>"
      ]
     },
     "metadata": {
      "needs_background": "light"
     },
     "output_type": "display_data"
    }
   ],
   "source": [
    "alpha = 0.5\n",
    "scaling = 1\n",
    "\n",
    "plt.figure(figsize=(8,6))\n",
    "\n",
    "for i in range(np.max(groups)+1):\n",
    "#     print(theta[i], (theta_hat[i]-0.29)*beta_hat)\n",
    "#     plt.scatter(s[groups==i] - np.min(s),\n",
    "#                 (s_est[groups==i] - np.min(s_est))*scaling,\n",
    "#                 marker='x', alpha=alpha,\n",
    "#                 label=\"group {}\".format(i))\n",
    "    plt.scatter(ranks[groups==i] - np.min(ranks),\n",
    "                (ranks_est[groups==i] - np.min(ranks_est))*scaling,\n",
    "                marker='x', alpha=alpha,\n",
    "                label=\"group {}\".format(i))\n",
    "\n",
    "plt.ylabel(\"estimate\")\n",
    "plt.xlabel(\"true\")\n",
    "\n",
    "plt.legend()\n",
    "\n",
    "plt.show()"
   ]
  },
  {
   "cell_type": "code",
   "execution_count": 9,
   "metadata": {},
   "outputs": [
    {
     "data": {
      "image/png": "[encoded data removed]",
      "text/plain": [
       "<Figure size 432x288 with 1 Axes>"
      ]
     },
     "metadata": {
      "needs_background": "light"
     },
     "output_type": "display_data"
    }
   ],
   "source": [
    "for i in range(np.max(groups)+1):\n",
    "    plt.scatter(theta[i],\n",
    "                theta_est[i],\n",
    "                marker='x',\n",
    "                label=\"group {}\".format(i))\n",
    "\n",
    "plt.ylabel(\"estimate\")\n",
    "plt.xlabel(\"true\")\n",
    "\n",
    "plt.legend()\n",
    "\n",
    "plt.show()"
   ]
  },
  {
   "cell_type": "markdown",
   "metadata": {},
   "source": [
    "- How to recover $\\beta$\n",
    "- Things that we need to recover ranks\n",
    "- Things that we need to recover group penalties\n",
    "- Regularization - Identify correct regularization coefficients\n",
    "- ~Use a sparse/iterative solver~\n",
    "- See results for different $k, N$"
   ]
  },
  {
   "cell_type": "code",
   "execution_count": null,
   "metadata": {},
   "outputs": [],
   "source": []
  }
 ],
 "metadata": {
  "kernelspec": {
   "display_name": "Python 3",
   "language": "python",
   "name": "python3"
  },
  "language_info": {
   "codemirror_mode": {
    "name": "ipython",
    "version": 3
   },
   "file_extension": ".py",
   "mimetype": "text/x-python",
   "name": "python",
   "nbconvert_exporter": "python",
   "pygments_lexer": "ipython3",
   "version": "3.7.3"
  }
 },
 "nbformat": 4,
 "nbformat_minor": 2
}
