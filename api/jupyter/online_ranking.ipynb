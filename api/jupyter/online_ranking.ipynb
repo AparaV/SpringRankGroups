{
 "cells": [
  {
   "cell_type": "code",
   "execution_count": 1,
   "metadata": {},
   "outputs": [],
   "source": [
    "import numpy as np\n",
    "import matplotlib.pyplot as plt\n",
    "import numpy.linalg as LA\n",
    "import scipy.sparse.linalg as spLA\n",
    "import networkx as nx\n",
    "\n",
    "import sys\n",
    "sys.path.insert(1, \"../\")\n",
    "\n",
    "import SpringRank_tools as sr\n",
    "import tools as tl\n",
    "\n",
    "from time import time\n",
    "from copy import deepcopy as copy\n",
    "\n",
    "%load_ext autoreload\n",
    "%aimport SpringRank_tools\n",
    "%aimport tools\n",
    "%autoreload 1\n",
    "\n",
    "%matplotlib inline"
   ]
  },
  {
   "cell_type": "markdown",
   "metadata": {},
   "source": [
    "## Update Process"
   ]
  },
  {
   "cell_type": "code",
   "execution_count": 2,
   "metadata": {},
   "outputs": [],
   "source": [
    "def Laplacian(G):\n",
    "    k_in = np.sum(G, 0)\n",
    "    k_out = np.sum(G, 1)\n",
    "    return np.diag(k_in + k_out) - (A + A.T)\n",
    "\n",
    "def operator_P(x, P):\n",
    "    if len(x.shape) == 2:\n",
    "        x_P = x[P][:, P]\n",
    "    elif len(x.shape) == 1:\n",
    "        x_P = x[P]\n",
    "    else:\n",
    "        raise ValueError(\"invalid shape\")\n",
    "    return x_P\n",
    "\n",
    "def get_neighbors(G, P):\n",
    "    idx_0 = set(np.nonzero(G[P])[1])\n",
    "    idx_1 = set(np.nonzero(G[:,P])[0])\n",
    "    N = idx_0.union(idx_1) - set(P)\n",
    "    return list(N)"
   ]
  },
  {
   "cell_type": "code",
   "execution_count": 40,
   "metadata": {},
   "outputs": [],
   "source": [
    "def update_ranks(A, s_0, P, num_iter=100, tol=1e-7):\n",
    "    L = Laplacian(A)\n",
    "    s_est = copy(s_0)\n",
    "    d_hat = np.sum(A, 1) - np.sum(A, 0)\n",
    "    RHS = d_hat - np.matmul(L, s_0)\n",
    "\n",
    "    L_p = operator_P(L, P)\n",
    "    RHS_p = operator_P(RHS, P)\n",
    "    delta_p = LA.solve(L_p, RHS_p)\n",
    "    s_est[P] = s_est[P] + delta_p\n",
    "    \n",
    "    N = get_neighbors(A, P)\n",
    "    for i in range(num_iter):\n",
    "        L_n = operator_P(L, N)\n",
    "        RHS_n = operator_P(d_hat - np.matmul(L, s_est), N)\n",
    "        delta_n = LA.solve(L_n, RHS_n)\n",
    "        s_est[N] = s_est[N] + delta_n\n",
    "        N = get_neighbors(A, N)\n",
    "    \n",
    "    return s_est\n",
    "\n",
    "def kth_order_update(A, s_0, N0, order, return_compute_times=False):\n",
    "    L = Laplacian(A)\n",
    "    s_est = copy(s_0)\n",
    "    d_hat = np.sum(A, 1) - np.sum(A, 0)\n",
    "    RHS = d_hat - np.matmul(L, s_0)\n",
    "    \n",
    "    start_time = time()\n",
    "    N = set(N0)\n",
    "    for k in range(order):\n",
    "        N = N.union(get_neighbors(A, list(N)))\n",
    "    N = list(N)\n",
    "    end_time = time()\n",
    "    neighbor_time = end_time - start_time\n",
    "    \n",
    "    L_n = operator_P(L, N)\n",
    "    print(LA.matrix_rank(L_n), len(N))\n",
    "    \n",
    "    RHS_n = operator_P(RHS, N)\n",
    "    \n",
    "    start_time = time()\n",
    "    result = spLA.spsolve(L_n, RHS_n)\n",
    "    delta_n = result[0]\n",
    "    end_time = time()\n",
    "    solve_time = end_time - start_time\n",
    "    \n",
    "    s_est[N] = s_est[N] + delta_n\n",
    "    \n",
    "    if return_compute_times:\n",
    "        return s_est, N, (neighbor_time, solve_time)\n",
    "    else:\n",
    "        return s_est, N"
   ]
  },
  {
   "cell_type": "markdown",
   "metadata": {},
   "source": [
    "## Simple Test Case #1\n",
    "The original system is essentially a directed link list. The final system closes the linked list creating a cycle. We expect all the nodes in the final system to have the same rank."
   ]
  },
  {
   "cell_type": "code",
   "execution_count": 15,
   "metadata": {},
   "outputs": [
    {
     "name": "stdout",
     "output_type": "stream",
     "text": [
      "[52.12183977 46.33061583 40.53937633 34.74812459 28.95684705 23.16553783\n",
      " 17.37419254 11.58281466  5.7914168   0.        ]\n"
     ]
    }
   ],
   "source": [
    "N = 10\n",
    "A0 = np.zeros((N, N))\n",
    "for i in range(N-1):\n",
    "    A0[i, i+1] = 1\n",
    "s0 = sr.SpringRank(A0)\n",
    "s0 = tl.adjust_ranks(s0, A0, p_ij=0.999)\n",
    "\n",
    "print(s0)"
   ]
  },
  {
   "cell_type": "code",
   "execution_count": 16,
   "metadata": {},
   "outputs": [
    {
     "name": "stdout",
     "output_type": "stream",
     "text": [
      "[0. 0. 0. 0. 0. 0. 0. 0. 0. 0.]\n"
     ]
    }
   ],
   "source": [
    "A = np.copy(A0)\n",
    "A[N-1, 0] = 1\n",
    "\n",
    "s = sr.SpringRank(A)\n",
    "s = tl.adjust_ranks(s, A, p_ij=0.999)\n",
    "\n",
    "print(s)"
   ]
  },
  {
   "cell_type": "code",
   "execution_count": 23,
   "metadata": {},
   "outputs": [
    {
     "name": "stdout",
     "output_type": "stream",
     "text": [
      "9 10\n",
      "[1.38555833e-13 2.13162821e-14 7.46069873e-14 5.68434189e-14\n",
      " 7.81597009e-14 7.10542736e-15 9.94759830e-14 3.90798505e-14\n",
      " 9.59232693e-14 0.00000000e+00]\n"
     ]
    }
   ],
   "source": [
    "k = 4\n",
    "sk, neighbors_k = kth_order_update(A, s0, N0=[N-1, 0], order=k)\n",
    "\n",
    "sk = tl.shift_ranks(sk)\n",
    "\n",
    "print(sk)"
   ]
  },
  {
   "cell_type": "markdown",
   "metadata": {},
   "source": [
    "Okay, works!"
   ]
  },
  {
   "cell_type": "markdown",
   "metadata": {},
   "source": [
    "## Simple Test Case #2\n",
    "Here, the final system is a directed linked list. The original system misses an edge that makes it a linked list."
   ]
  },
  {
   "cell_type": "code",
   "execution_count": 24,
   "metadata": {},
   "outputs": [
    {
     "name": "stdout",
     "output_type": "stream",
     "text": [
      "7\n",
      "[40.54002038 34.74858916 28.95715788 23.16572653 17.37429507 11.58286352\n",
      "  5.79143181  0.         43.43573637 37.64430445]\n"
     ]
    }
   ],
   "source": [
    "N = 10\n",
    "missing_node = np.random.randint(0, N-1)\n",
    "A0 = np.zeros((N, N))\n",
    "for i in range(N-1):\n",
    "    if i == missing_node:\n",
    "        continue\n",
    "    A0[i, i+1] = 1\n",
    "# if i != (N-1):\n",
    "#     A0[N-1, 0] = 1\n",
    "s0 = sr.SpringRank(A0)\n",
    "s0 = tl.adjust_ranks(s0, A0, p_ij=0.999)\n",
    "\n",
    "print(missing_node)\n",
    "print(s0)"
   ]
  },
  {
   "cell_type": "code",
   "execution_count": 23,
   "metadata": {},
   "outputs": [
    {
     "name": "stdout",
     "output_type": "stream",
     "text": [
      "[52.12183977 46.33061583 40.53937633 34.74812459 28.95684705 23.16553783\n",
      " 17.37419254 11.58281466  5.7914168   0.        ]\n"
     ]
    }
   ],
   "source": [
    "A = np.copy(A0)\n",
    "A[missing_node, missing_node+1] = 1\n",
    "\n",
    "s = sr.SpringRank(A)\n",
    "s = tl.adjust_ranks(s, A, p_ij=0.999)\n",
    "\n",
    "print(s)"
   ]
  },
  {
   "cell_type": "code",
   "execution_count": 27,
   "metadata": {},
   "outputs": [
    {
     "name": "stdout",
     "output_type": "stream",
     "text": [
      "[0, 1, 2, 3, 4, 5, 6, 7, 8, 9]\n",
      "[18.39943658 17.39943658 16.39943658 15.39943658 14.39943658 13.39943658\n",
      " 12.39943658 11.39943658 10.39943658  9.39943658]\n"
     ]
    }
   ],
   "source": [
    "k = 5\n",
    "sk, neighbors_k = kth_order_update(A, s0, N0=[missing_node, missing_node+1], order=k)\n",
    "\n",
    "# sk = tl.adjust_ranks(sk, A, p_ij=0.999, interval=(-1000, 100))\n",
    "\n",
    "print(neighbors_k)\n",
    "print(sk)"
   ]
  },
  {
   "cell_type": "code",
   "execution_count": 126,
   "metadata": {},
   "outputs": [
    {
     "data": {
      "image/png": "[encoded data removed]",
      "text/plain": [
       "<Figure size 360x360 with 1 Axes>"
      ]
     },
     "metadata": {
      "needs_background": "light"
     },
     "output_type": "display_data"
    }
   ],
   "source": [
    "plt.figure(figsize=(5,5))\n",
    "\n",
    "plt.scatter(s, sk, color=\"teal\", edgecolor=\"black\", alpha=0.6)\n",
    "\n",
    "plt.scatter(s[missing_node], sk[missing_node], color=\"lightgreen\", edgecolor=\"black\")\n",
    "plt.scatter(s[missing_node+1], sk[missing_node+1], color=\"red\", edgecolor=\"black\")\n",
    "\n",
    "plt.xlabel(\"SpringRank estimates of new system\")\n",
    "plt.ylabel(\"Online estimates using old SR estimates\")\n",
    "\n",
    "plt.show()"
   ]
  },
  {
   "cell_type": "markdown",
   "metadata": {},
   "source": [
    "Okay, works!"
   ]
  },
  {
   "cell_type": "markdown",
   "metadata": {},
   "source": [
    "## Test on large network"
   ]
  },
  {
   "cell_type": "code",
   "execution_count": 48,
   "metadata": {},
   "outputs": [],
   "source": [
    "beta = 0.5\n",
    "p_ij = 1 / (1 + np.exp(-2*beta))\n",
    "alpha = 1\n",
    "N = 500\n",
    "K = 10\n",
    "\n",
    "A_0 = sr.SpringRank_planted_network(N, beta, alpha, K)\n",
    "s_0 = sr.SpringRank(A_0)\n",
    "s_0 = tl.adjust_ranks(s_0, A_0, p_ij=p_ij)"
   ]
  },
  {
   "cell_type": "code",
   "execution_count": 49,
   "metadata": {},
   "outputs": [],
   "source": [
    "node_x = 35\n",
    "node_y = 70\n",
    "A_xy = 1\n",
    "A_yx = 0\n",
    "\n",
    "A = copy(A_0)\n",
    "A[node_x, node_y] += A_xy\n",
    "A[node_y, node_x] += A_yx\n",
    "P = [node_x, node_y]"
   ]
  },
  {
   "cell_type": "code",
   "execution_count": 50,
   "metadata": {},
   "outputs": [
    {
     "name": "stdout",
     "output_type": "stream",
     "text": [
      "Difference:\n",
      "0.30845795711078633\n"
     ]
    }
   ],
   "source": [
    "s = sr.SpringRank(A)\n",
    "s = tl.adjust_ranks(s, A, p_ij=p_ij)\n",
    "\n",
    "print(\"Difference:\")\n",
    "print(LA.norm(s - s_0, ord=2))"
   ]
  },
  {
   "cell_type": "markdown",
   "metadata": {},
   "source": [
    "### kth order update"
   ]
  },
  {
   "cell_type": "code",
   "execution_count": 64,
   "metadata": {},
   "outputs": [
    {
     "name": "stdout",
     "output_type": "stream",
     "text": [
      "2 2\n",
      "44 44\n",
      "411 411\n",
      "499 500\n",
      "499 500\n",
      "499 500\n"
     ]
    }
   ],
   "source": [
    "s_all = []\n",
    "fraction_nodes = []\n",
    "neighbors = []\n",
    "errors = []\n",
    "elapsed_times = []\n",
    "neighbor_times = []\n",
    "solve_times = []\n",
    "\n",
    "max_order = 5\n",
    "orders = list(range(max_order+1))\n",
    "\n",
    "num_reps = 1\n",
    "\n",
    "baseline_time = 0\n",
    "for i in range(num_reps):\n",
    "    start_time = time()\n",
    "    _ = sr.SpringRank(A)\n",
    "    end_time = time()\n",
    "    baseline_time += end_time - start_time\n",
    "baseline_time /= num_reps\n",
    "\n",
    "for k in orders:\n",
    "    \n",
    "    elapsed_time_k = 0\n",
    "    neighbor_time_k = 0\n",
    "    solve_time_k = 0\n",
    "    for i in range(num_reps):\n",
    "        start_time = time()\n",
    "        s_k, N_k, times = kth_order_update(A, s_0, P, order=k, return_compute_times=True)\n",
    "        end_time = time()\n",
    "        elapsed_time_k += end_time - start_time\n",
    "        neighbor_time_k += times[0]\n",
    "        solve_time_k += times[1]\n",
    "    elapsed_times.append(elapsed_time_k / num_reps)\n",
    "    neighbor_times.append(neighbor_time_k / num_reps)\n",
    "    solve_times.append(solve_time_k / num_reps)\n",
    "    \n",
    "    fraction_k = len(N_k) / N\n",
    "    fraction_nodes.append(fraction_k)\n",
    "    \n",
    "    s_k = tl.shift_ranks(s_k)\n",
    "#     s_k = tl.adjust_ranks(s_k, A, p_ij=p_ij)\n",
    "    s_all.append(s_k)\n",
    "    neighbors.append(N_k)\n",
    "    \n",
    "    error_k = LA.norm(s_k - s, ord=2)\n",
    "    errors.append(error_k)"
   ]
  },
  {
   "cell_type": "code",
   "execution_count": 65,
   "metadata": {},
   "outputs": [
    {
     "data": {
      "image/png": "[encoded data removed]",
      "text/plain": [
       "<Figure size 1296x360 with 3 Axes>"
      ]
     },
     "metadata": {
      "needs_background": "light"
     },
     "output_type": "display_data"
    }
   ],
   "source": [
    "fig, ax = plt.subplots(1, 3, figsize=(18, 5))\n",
    "\n",
    "for i in range(3):\n",
    "    ax[i].set_xlabel(\"Neighborhood degree\")\n",
    "    ax[i].set_xticks(orders)\n",
    "\n",
    "ax[0].plot(orders, np.log(errors), color=\"mediumorchid\")\n",
    "ax[0].set_ylabel(\"Log Error\")\n",
    "\n",
    "\n",
    "ax[1].plot(orders, [baseline_time]*len(orders), color='black', alpha=0.7, label=\"Baseline\")\n",
    "ax[1].plot(orders, elapsed_times, color=\"teal\", label=\"Online\")\n",
    "ax[1].plot(orders, neighbor_times, color=\"red\", label=\"Neighbor collection\")\n",
    "ax[1].plot(orders, solve_times, color=\"blue\", label=\"Solve\")\n",
    "ax[1].set_ylabel(\"Time (ms)\")\n",
    "ax[1].legend()\n",
    "\n",
    "\n",
    "ax[2].plot(orders, fraction_nodes, color=\"coral\")\n",
    "ax[2].set_ylabel(\"Fraction of nodes covered\")\n",
    "\n",
    "plt.show()"
   ]
  },
  {
   "cell_type": "code",
   "execution_count": 72,
   "metadata": {},
   "outputs": [
    {
     "data": {
      "image/png": "[encoded data removed]",
      "text/plain": [
       "<Figure size 432x432 with 1 Axes>"
      ]
     },
     "metadata": {
      "needs_background": "light"
     },
     "output_type": "display_data"
    }
   ],
   "source": [
    "plt.figure(figsize=(6, 6))\n",
    "\n",
    "k = 0\n",
    "\n",
    "plt.scatter(s, s_all[k], color=\"grey\", edgecolor=\"white\", alpha=0.4)\n",
    "\n",
    "plt.scatter(s[neighbors[k]], s_all[k][neighbors[k]], color=\"teal\", edgecolor=\"white\", alpha=0.5)\n",
    "\n",
    "plt.scatter(s[node_x], s_all[k][node_x], color=\"red\", edgecolor=\"black\")\n",
    "plt.scatter(s[node_y], s_all[k][node_y], color=\"lawngreen\", edgecolor=\"black\")\n",
    "\n",
    "plt.xlim(min(np.min(s), np.min(s_all))-1, max(np.max(s), np.max(s_all))+1)\n",
    "plt.ylim(min(np.min(s), np.min(s_all))-1, max(np.max(s), np.max(s_all))+1)\n",
    "\n",
    "plt.xlabel(\"SpringRank Estimates using new system\")\n",
    "plt.ylabel(\"Online Estimates using SR estimates from old system\")\n",
    "\n",
    "\n",
    "plt.show()"
   ]
  },
  {
   "cell_type": "code",
   "execution_count": null,
   "metadata": {},
   "outputs": [],
   "source": []
  }
 ],
 "metadata": {
  "kernelspec": {
   "display_name": "Python 3",
   "language": "python",
   "name": "python3"
  },
  "language_info": {
   "codemirror_mode": {
    "name": "ipython",
    "version": 3
   },
   "file_extension": ".py",
   "mimetype": "text/x-python",
   "name": "python",
   "nbconvert_exporter": "python",
   "pygments_lexer": "ipython3",
   "version": "3.7.3"
  }
 },
 "nbformat": 4,
 "nbformat_minor": 2
}
