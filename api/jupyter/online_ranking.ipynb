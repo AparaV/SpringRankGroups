{
 "cells": [
  {
   "cell_type": "code",
   "execution_count": 1,
   "metadata": {},
   "outputs": [],
   "source": [
    "import numpy as np\n",
    "import matplotlib.pyplot as plt\n",
    "import numpy.linalg as LA\n",
    "import scipy.sparse.linalg as spLA\n",
    "import networkx as nx\n",
    "\n",
    "import sys\n",
    "sys.path.insert(1, \"../\")\n",
    "\n",
    "import SpringRank_tools as sr\n",
    "import tools as tl\n",
    "\n",
    "from time import time\n",
    "from copy import deepcopy as copy\n",
    "\n",
    "%load_ext autoreload\n",
    "%aimport SpringRank_tools\n",
    "%aimport tools\n",
    "%autoreload 1\n",
    "\n",
    "%matplotlib inline"
   ]
  },
  {
   "cell_type": "markdown",
   "metadata": {},
   "source": [
    "## Update Process"
   ]
  },
  {
   "cell_type": "code",
   "execution_count": 60,
   "metadata": {},
   "outputs": [],
   "source": [
    "def Laplacian(G):\n",
    "    k_in = np.sum(G, 0)\n",
    "    k_out = np.sum(G, 1)\n",
    "    return np.diag(k_in + k_out) - (A + A.T)\n",
    "\n",
    "def operator_P(x, P):\n",
    "    if len(x.shape) == 2:\n",
    "        x_P = x[P][:, P]\n",
    "    elif len(x.shape) == 1:\n",
    "        x_P = x[P]\n",
    "    else:\n",
    "        raise ValueError(\"invalid shape\")\n",
    "    return x_P\n",
    "\n",
    "def get_neighbors(G, P):\n",
    "    idx_0 = set(np.nonzero(G[P])[0])\n",
    "    idx_1 = set(np.nonzero(G[:,P])[0])\n",
    "    N = idx_0.union(idx_1) - set(P)\n",
    "    return list(N)"
   ]
  },
  {
   "cell_type": "code",
   "execution_count": 160,
   "metadata": {},
   "outputs": [],
   "source": [
    "def update_ranks(A, s_0, P, num_iter=100, tol=1e-7):\n",
    "    L = Laplacian(A)\n",
    "    s_est = copy(s_0)\n",
    "    d_hat = np.sum(A, 1) - np.sum(A, 0)\n",
    "    RHS = d_hat - np.matmul(L, s_0)\n",
    "\n",
    "    L_p = operator_P(L, P)\n",
    "    RHS_p = operator_P(RHS, P)\n",
    "    delta_p = LA.solve(L_p, RHS_p)\n",
    "    s_est[P] = s_est[P] + delta_p\n",
    "    \n",
    "    N = get_neighbors(A, P)\n",
    "    for i in range(num_iter):\n",
    "        L_n = operator_P(L, N)\n",
    "        RHS_n = operator_P(d_hat - np.matmul(L, s_est), N)\n",
    "        delta_n = LA.solve(L_n, RHS_n)\n",
    "        s_est[N] = s_est[N] + delta_n\n",
    "        N = get_neighbors(A, N)\n",
    "    \n",
    "    return s_est\n",
    "\n",
    "def kth_order_update(A, s_0, N0, order, return_compute_times=False):\n",
    "    L = Laplacian(A)\n",
    "    s_est = copy(s_0)\n",
    "    d_hat = np.sum(A, 1) - np.sum(A, 0)\n",
    "    RHS = d_hat - np.matmul(L, s_0)\n",
    "    \n",
    "    start_time = time()\n",
    "    N = set(N0)\n",
    "    for k in range(order):\n",
    "        N = N.union(get_neighbors(A, list(N)))\n",
    "    N = list(N)\n",
    "    end_time = time()\n",
    "    neighbor_time = end_time - start_time\n",
    "    \n",
    "#     start_time = time()\n",
    "    L_n = operator_P(L, N)\n",
    "    RHS_n = operator_P(RHS, N)\n",
    "    \n",
    "    start_time = time()\n",
    "    try:\n",
    "        delta_n = spLA.spsolve(L_n, RHS_n)\n",
    "    except:\n",
    "        result = spLA.lsqr(L_n, RHS_n)\n",
    "        delta_n = result[0]\n",
    "    end_time = time()\n",
    "    solve_time = end_time - start_time\n",
    "    \n",
    "    s_est[N] = s_est[N] + delta_n\n",
    "    \n",
    "    if return_compute_times:\n",
    "        return s_est, N, (neighbor_time, solve_time)\n",
    "    else:\n",
    "        return s_est, N"
   ]
  },
  {
   "cell_type": "markdown",
   "metadata": {},
   "source": [
    "## Test on a small network"
   ]
  },
  {
   "cell_type": "code",
   "execution_count": 62,
   "metadata": {},
   "outputs": [
    {
     "name": "stdout",
     "output_type": "stream",
     "text": [
      "Network:\n",
      "[[ 0.  3.  0.  0.  0.]\n",
      " [10.  0.  6.  0.  0.]\n",
      " [ 0.  6.  0.  7.  0.]\n",
      " [ 0.  0.  0.  0.  1.]\n",
      " [ 0.  0.  0.  3.  0.]]\n",
      "Ranks:\n",
      "[0.84561984 1.83217635 1.83217639 0.         0.91608817]\n"
     ]
    }
   ],
   "source": [
    "N = 5\n",
    "\n",
    "A_0 = np.zeros((N, N))\n",
    "A_0[0, :] = np.array([0, 3, 0, 0, 0])\n",
    "A_0[1, :] = np.array([10, 0, 6, 0, 0])\n",
    "A_0[2, :] = np.array([0, 6, 0, 7, 0])\n",
    "A_0[3, :] = np.array([0, 0, 0, 0, 1])\n",
    "A_0[4, :] = np.array([0, 0, 0, 3, 0])\n",
    "\n",
    "print(\"Network:\")\n",
    "print(A_0)\n",
    "\n",
    "s_0 = sr.SpringRank(A_0)\n",
    "s_0 = tl.adjust_ranks(s_0, A_0, p_ij=0.8)\n",
    "\n",
    "print(\"Ranks:\")\n",
    "print(s_0)"
   ]
  },
  {
   "cell_type": "markdown",
   "metadata": {},
   "source": [
    "Add some edges between two nodes"
   ]
  },
  {
   "cell_type": "code",
   "execution_count": 63,
   "metadata": {},
   "outputs": [
    {
     "name": "stdout",
     "output_type": "stream",
     "text": [
      "Updated network:\n",
      "[[ 0.  3.  1.  0.  0.]\n",
      " [10.  0.  6.  0.  0.]\n",
      " [ 0.  6.  0.  7.  0.]\n",
      " [ 0.  0.  0.  0.  1.]\n",
      " [ 0.  0.  0.  3.  0.]]\n",
      "Updated ranks:\n",
      "[1.28195308 2.11207029 1.90191406 0.         0.95095706]\n"
     ]
    }
   ],
   "source": [
    "# fix nodes\n",
    "node_x = 0\n",
    "node_y = 2\n",
    "\n",
    "# fix number of edges\n",
    "A_xy = 1\n",
    "A_yx = 0\n",
    "\n",
    "# update network\n",
    "A = copy(A_0)\n",
    "A[node_x, node_y] += A_xy\n",
    "A[node_y, node_x] += A_yx\n",
    "\n",
    "print(\"Updated network:\")\n",
    "print(A)\n",
    "\n",
    "# calculate new ranks\n",
    "s = sr.SpringRank(A)\n",
    "s = tl.adjust_ranks(s, A, p_ij=0.8)\n",
    "\n",
    "print(\"Updated ranks:\")\n",
    "print(s)"
   ]
  },
  {
   "cell_type": "markdown",
   "metadata": {},
   "source": [
    "Estimate updated ranks using $\\infty$ recursion "
   ]
  },
  {
   "cell_type": "code",
   "execution_count": 64,
   "metadata": {},
   "outputs": [
    {
     "name": "stdout",
     "output_type": "stream",
     "text": [
      "Estimated ranks:\n",
      "[1.0440893  1.72014985 1.54897817 0.         1.4189711 ]\n",
      "L2 error:\n",
      "0.7441651058717121\n"
     ]
    }
   ],
   "source": [
    "P = [node_x, node_y]\n",
    "s_est = update_ranks(A, s_0, P)\n",
    "s_est = tl.adjust_ranks(s_est, A, p_ij=0.8, interval=(-10, 20))\n",
    "\n",
    "print(\"Estimated ranks:\")\n",
    "print(s_est)\n",
    "\n",
    "print(\"L2 error:\")\n",
    "print(LA.norm(s - s_est, ord=2))"
   ]
  },
  {
   "cell_type": "markdown",
   "metadata": {},
   "source": [
    "## Test on larger network"
   ]
  },
  {
   "cell_type": "code",
   "execution_count": 167,
   "metadata": {},
   "outputs": [],
   "source": [
    "beta = 0.5\n",
    "p_ij = 1 / (1 + np.exp(-2*beta))\n",
    "alpha = 1\n",
    "N = 1000\n",
    "K = 10\n",
    "\n",
    "A_0 = sr.SpringRank_planted_network(N, beta, alpha, K)\n",
    "s_0 = sr.SpringRank(A_0)\n",
    "s_0 = tl.adjust_ranks(s_0, A_0, p_ij=p_ij)"
   ]
  },
  {
   "cell_type": "code",
   "execution_count": 168,
   "metadata": {},
   "outputs": [],
   "source": [
    "node_x = 35\n",
    "node_y = 70\n",
    "A_xy = 1\n",
    "A_yx = 0\n",
    "\n",
    "A = copy(A_0)\n",
    "A[node_x, node_y] += A_xy\n",
    "A[node_y, node_x] += A_yx"
   ]
  },
  {
   "cell_type": "code",
   "execution_count": 169,
   "metadata": {},
   "outputs": [
    {
     "name": "stdout",
     "output_type": "stream",
     "text": [
      "Difference:\n",
      "0.13492906002401409\n"
     ]
    }
   ],
   "source": [
    "s = sr.SpringRank(A)\n",
    "s = tl.adjust_ranks(s, A, p_ij=p_ij)\n",
    "\n",
    "print(\"Difference:\")\n",
    "print(LA.norm(s - s_0, ord=2))"
   ]
  },
  {
   "cell_type": "markdown",
   "metadata": {},
   "source": [
    "### kth order update"
   ]
  },
  {
   "cell_type": "code",
   "execution_count": 170,
   "metadata": {},
   "outputs": [],
   "source": [
    "s_all = []\n",
    "fraction_nodes = []\n",
    "errors = []\n",
    "elapsed_times = []\n",
    "neighbor_times = []\n",
    "solve_times = []\n",
    "\n",
    "max_order = 5\n",
    "orders = list(range(max_order+1))\n",
    "\n",
    "num_reps = 1\n",
    "\n",
    "baseline_time = 0\n",
    "for i in range(num_reps):\n",
    "    start_time = time()\n",
    "    _ = sr.SpringRank(A)\n",
    "    end_time = time()\n",
    "    baseline_time += end_time - start_time\n",
    "baseline_time /= num_reps\n",
    "\n",
    "for k in orders:\n",
    "    \n",
    "    elapsed_time_k = 0\n",
    "    neighbor_time_k = 0\n",
    "    solve_time_k = 0\n",
    "    for i in range(num_reps):\n",
    "        start_time = time()\n",
    "        s_k, N_k, times = kth_order_update(A, s_0, P, order=k, return_compute_times=True)\n",
    "        end_time = time()\n",
    "        elapsed_time_k += end_time - start_time\n",
    "        neighbor_time_k += times[0]\n",
    "        solve_time_k += times[1]\n",
    "    elapsed_times.append(elapsed_time_k / num_reps)\n",
    "    neighbor_times.append(neighbor_time_k / num_reps)\n",
    "    solve_times.append(solve_time_k / num_reps)\n",
    "    \n",
    "    fraction_k = len(N_k) / N\n",
    "    fraction_nodes.append(fraction_k)\n",
    "    \n",
    "    s_k = tl.adjust_ranks(s_k, A, p_ij=p_ij)\n",
    "    s_all.append(s_k)\n",
    "    \n",
    "    error_k = LA.norm(s_k - s, ord=2)\n",
    "    errors.append(error_k)"
   ]
  },
  {
   "cell_type": "code",
   "execution_count": 171,
   "metadata": {},
   "outputs": [
    {
     "data": {
      "image/png": "[encoded data removed]",
      "text/plain": [
       "<Figure size 1296x360 with 3 Axes>"
      ]
     },
     "metadata": {
      "needs_background": "light"
     },
     "output_type": "display_data"
    }
   ],
   "source": [
    "fig, ax = plt.subplots(1, 3, figsize=(18, 5))\n",
    "\n",
    "for i in range(3):\n",
    "    ax[i].set_xlabel(\"Neighborhood degree\")\n",
    "    ax[i].set_xticks(orders)\n",
    "\n",
    "ax[0].plot(orders, np.log(errors), color=\"mediumorchid\")\n",
    "ax[0].set_ylabel(\"Log Error\")\n",
    "\n",
    "\n",
    "ax[1].plot(orders, [baseline_time]*len(orders), color='black', alpha=0.7, label=\"Baseline\")\n",
    "ax[1].plot(orders, elapsed_times, color=\"teal\", label=\"Online\")\n",
    "ax[1].plot(orders, neighbor_times, color=\"red\", label=\"Neighbor collection\")\n",
    "ax[1].plot(orders, solve_times, color=\"blue\", label=\"Solve\")\n",
    "ax[1].set_ylabel(\"Time (ms)\")\n",
    "ax[1].legend()\n",
    "\n",
    "\n",
    "ax[2].plot(orders, fraction_nodes, color=\"coral\")\n",
    "ax[2].set_ylabel(\"Fraction of nodes covered\")\n",
    "\n",
    "plt.show()"
   ]
  },
  {
   "cell_type": "code",
   "execution_count": 178,
   "metadata": {},
   "outputs": [
    {
     "name": "stdout",
     "output_type": "stream",
     "text": [
      "-2.9478316813479695\n",
      "0.022934675216674805 0.10872268676757812\n"
     ]
    }
   ],
   "source": [
    "L = Laplacian(A)\n",
    "d_hat = np.sum(A, 1) - np.sum(A, 0)\n",
    "RHS = d_hat - np.matmul(L, s_0)\n",
    "\n",
    "\n",
    "start = time()\n",
    "result = spLA.bicgstab(L, RHS)\n",
    "delta = result[0]\n",
    "end = time()\n",
    "elapsed = end - start\n",
    "\n",
    "x = s_0 + delta\n",
    "x = tl.adjust_ranks(x, A, p_ij=p_ij, interval=(-10, 10))\n",
    "\n",
    "L2error = LA.norm(x - s, ord=2)\n",
    "print(np.log(L2error))\n",
    "\n",
    "print(elapsed, baseline_time)"
   ]
  },
  {
   "cell_type": "code",
   "execution_count": null,
   "metadata": {},
   "outputs": [],
   "source": []
  }
 ],
 "metadata": {
  "kernelspec": {
   "display_name": "Python 3",
   "language": "python",
   "name": "python3"
  },
  "language_info": {
   "codemirror_mode": {
    "name": "ipython",
    "version": 3
   },
   "file_extension": ".py",
   "mimetype": "text/x-python",
   "name": "python",
   "nbconvert_exporter": "python",
   "pygments_lexer": "ipython3",
   "version": "3.7.3"
  }
 },
 "nbformat": 4,
 "nbformat_minor": 2
}
