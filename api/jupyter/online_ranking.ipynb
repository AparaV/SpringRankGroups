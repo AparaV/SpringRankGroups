{
 "cells": [
  {
   "cell_type": "code",
   "execution_count": 1,
   "metadata": {},
   "outputs": [],
   "source": [
    "import numpy as np\n",
    "import matplotlib.pyplot as plt\n",
    "import numpy.linalg as LA\n",
    "import scipy.sparse.linalg as spLA\n",
    "import networkx as nx\n",
    "\n",
    "import sys\n",
    "sys.path.insert(1, \"../\")\n",
    "\n",
    "import SpringRank_tools as sr\n",
    "import tools as tl\n",
    "\n",
    "from copy import deepcopy as copy\n",
    "\n",
    "%load_ext autoreload\n",
    "%aimport SpringRank_tools\n",
    "%aimport tools\n",
    "%autoreload 1\n",
    "\n",
    "%matplotlib inline"
   ]
  },
  {
   "cell_type": "markdown",
   "metadata": {},
   "source": [
    "## Update Process"
   ]
  },
  {
   "cell_type": "code",
   "execution_count": 2,
   "metadata": {},
   "outputs": [],
   "source": [
    "def Laplacian(G):\n",
    "    k_in = np.sum(G, 0)\n",
    "    k_out = np.sum(G, 1)\n",
    "    return np.diag(k_in + k_out) - (A + A.T)\n",
    "\n",
    "def operator_P(x, P):\n",
    "    if len(x.shape) == 2:\n",
    "        x_P = x[P][:, P]\n",
    "    elif len(x.shape) == 1:\n",
    "        x_P = x[P]\n",
    "    else:\n",
    "        raise ValueError(\"invalid shape\")\n",
    "    return x_P\n",
    "\n",
    "def get_neighbors(G, P):\n",
    "    idx_0 = set(np.nonzero(G[P])[1])\n",
    "    idx_1 = set(np.nonzero(G[:,P])[0])\n",
    "    N = idx_0.union(idx_1) - set(P)\n",
    "    return list(N)"
   ]
  },
  {
   "cell_type": "code",
   "execution_count": 26,
   "metadata": {},
   "outputs": [],
   "source": [
    "def update_ranks(A, s_0, P, num_iter=100, tol=1e-7):\n",
    "    L = Laplacian(A)\n",
    "    s_est = copy(s_0)\n",
    "    d_hat = np.sum(A, 1) - np.sum(A, 0)\n",
    "    RHS = d_hat - np.matmul(L, s_0)\n",
    "\n",
    "    L_p = operator_P(L, P)\n",
    "    RHS_p = operator_P(RHS, P)\n",
    "    delta_p = LA.solve(L_p, RHS_p)\n",
    "    s_est[P] = s_est[P] + delta_p\n",
    "    \n",
    "    N = get_neighbors(A, P)\n",
    "    for i in range(num_iter):\n",
    "        L_n = operator_P(L, N)\n",
    "        RHS_n = operator_P(d_hat - np.matmul(L, s_est), N)\n",
    "        delta_n = LA.solve(L_n, RHS_n)\n",
    "        s_est[N] = s_est[N] + delta_n\n",
    "        N = get_neighbors(A, N)\n",
    "    \n",
    "    return s_est\n",
    "\n",
    "def kth_order_update(A, s_0, N0, order):\n",
    "    L = Laplacian(A)\n",
    "    s_est = copy(s_0)\n",
    "    d_hat = np.sum(A, 1) - np.sum(A, 0)\n",
    "    RHS = d_hat - np.matmul(L, s_0)\n",
    "    \n",
    "    N = set()\n",
    "    for k in range(order):\n",
    "        N = N.union(get_neighbors(A, list(N)))\n",
    "    N = list(N)\n",
    "    \n",
    "    L_n = operator_P(L, N)\n",
    "    RHS_n = operator_P(RHS, N)\n",
    "    delta_n = LA.solve(L_n, RHS_n)\n",
    "    s_est[N] = s_est[N] + delta_n\n",
    "    \n",
    "    return s_est, N"
   ]
  },
  {
   "cell_type": "markdown",
   "metadata": {},
   "source": [
    "## Test on a small network"
   ]
  },
  {
   "cell_type": "code",
   "execution_count": 4,
   "metadata": {},
   "outputs": [
    {
     "name": "stdout",
     "output_type": "stream",
     "text": [
      "Network:\n",
      "[[ 0.  3.  0.  0.  0.]\n",
      " [10.  0.  6.  0.  0.]\n",
      " [ 0.  6.  0.  7.  0.]\n",
      " [ 0.  0.  0.  0.  1.]\n",
      " [ 0.  0.  0.  3.  0.]]\n",
      "Ranks:\n",
      "[0.84561991 1.83217641 1.83217634 0.         0.91608823]\n"
     ]
    }
   ],
   "source": [
    "N = 5\n",
    "\n",
    "A_0 = np.zeros((N, N))\n",
    "A_0[0, :] = np.array([0, 3, 0, 0, 0])\n",
    "A_0[1, :] = np.array([10, 0, 6, 0, 0])\n",
    "A_0[2, :] = np.array([0, 6, 0, 7, 0])\n",
    "A_0[3, :] = np.array([0, 0, 0, 0, 1])\n",
    "A_0[4, :] = np.array([0, 0, 0, 3, 0])\n",
    "\n",
    "print(\"Network:\")\n",
    "print(A_0)\n",
    "\n",
    "s_0 = sr.SpringRank(A_0)\n",
    "s_0 = tl.adjust_ranks(s_0, A_0, p_ij=0.8)\n",
    "\n",
    "print(\"Ranks:\")\n",
    "print(s_0)"
   ]
  },
  {
   "cell_type": "markdown",
   "metadata": {},
   "source": [
    "Add some edges between two nodes"
   ]
  },
  {
   "cell_type": "code",
   "execution_count": 5,
   "metadata": {},
   "outputs": [
    {
     "name": "stdout",
     "output_type": "stream",
     "text": [
      "Updated network:\n",
      "[[ 0.  3.  1.  0.  0.]\n",
      " [10.  0.  6.  0.  0.]\n",
      " [ 0.  6.  0.  7.  0.]\n",
      " [ 0.  0.  0.  0.  1.]\n",
      " [ 0.  0.  0.  3.  0.]]\n",
      "Updated ranks:\n",
      "[1.28195283 2.11207007 1.90191389 0.         0.95095709]\n"
     ]
    }
   ],
   "source": [
    "# fix nodes\n",
    "node_x = 0\n",
    "node_y = 2\n",
    "\n",
    "# fix number of edges\n",
    "A_xy = 1\n",
    "A_yx = 0\n",
    "\n",
    "# update network\n",
    "A = copy(A_0)\n",
    "A[node_x, node_y] += A_xy\n",
    "A[node_y, node_x] += A_yx\n",
    "\n",
    "print(\"Updated network:\")\n",
    "print(A)\n",
    "\n",
    "# calculate new ranks\n",
    "s = sr.SpringRank(A)\n",
    "s = tl.adjust_ranks(s, A, p_ij=0.8)\n",
    "\n",
    "print(\"Updated ranks:\")\n",
    "print(s)"
   ]
  },
  {
   "cell_type": "code",
   "execution_count": 6,
   "metadata": {},
   "outputs": [
    {
     "name": "stdout",
     "output_type": "stream",
     "text": [
      "Estimated ranks:\n",
      "[1.28195315 2.11207035 1.9019141  0.         0.95095705]\n",
      "L2 error:\n",
      "4.739344317975831e-07\n"
     ]
    }
   ],
   "source": [
    "P = [node_x, node_y]\n",
    "s_est = update_ranks(A, s_0, P)\n",
    "s_est = tl.adjust_ranks(s_est, A, p_ij=0.8, interval=(-10, 20))\n",
    "\n",
    "print(\"Estimated ranks:\")\n",
    "print(s_est)\n",
    "\n",
    "print(\"L2 error:\")\n",
    "print(LA.norm(s - s_est, ord=2))"
   ]
  },
  {
   "cell_type": "markdown",
   "metadata": {},
   "source": [
    "## Test on larger network"
   ]
  },
  {
   "cell_type": "code",
   "execution_count": 9,
   "metadata": {},
   "outputs": [],
   "source": [
    "beta = 0.5\n",
    "p_ij = 1 / (1 + np.exp(-2*beta))\n",
    "alpha = 1\n",
    "N = 1000\n",
    "K = 10\n",
    "\n",
    "A_0 = sr.SpringRank_planted_network(N, beta, alpha, K)\n",
    "s_0 = sr.SpringRank(A_0)\n",
    "s_0 = tl.adjust_ranks(s_0, A_0, p_ij=p_ij)"
   ]
  },
  {
   "cell_type": "code",
   "execution_count": 10,
   "metadata": {},
   "outputs": [],
   "source": [
    "node_x = 135\n",
    "node_y = 970\n",
    "A_xy = 24\n",
    "A_yx = 1\n",
    "\n",
    "A = copy(A_0)\n",
    "A[node_x, node_y] = A_xy\n",
    "A[node_y, node_x] = A_yx"
   ]
  },
  {
   "cell_type": "code",
   "execution_count": 11,
   "metadata": {},
   "outputs": [
    {
     "name": "stdout",
     "output_type": "stream",
     "text": [
      "Difference:\n",
      "2.586070240823599\n"
     ]
    }
   ],
   "source": [
    "s = sr.SpringRank(A)\n",
    "s = tl.adjust_ranks(s, A, p_ij=p_ij)\n",
    "\n",
    "print(\"Difference:\")\n",
    "print(LA.norm(s - s_0, ord=2))"
   ]
  },
  {
   "cell_type": "code",
   "execution_count": 12,
   "metadata": {},
   "outputs": [
    {
     "name": "stdout",
     "output_type": "stream",
     "text": [
      "L2 error:\n",
      "0.02391385752906418\n"
     ]
    }
   ],
   "source": [
    "P = [node_x, node_y]\n",
    "s_est = update_ranks(A, s_0, P, num_iter=10, tol=1e-1)\n",
    "s_est = tl.adjust_ranks(s_est, A, p_ij=p_ij, interval=(-10, 20))\n",
    "\n",
    "print(\"L2 error:\")\n",
    "print(LA.norm(s - s_est, ord=2))"
   ]
  },
  {
   "cell_type": "code",
   "execution_count": 22,
   "metadata": {},
   "outputs": [
    {
     "name": "stderr",
     "output_type": "stream",
     "text": [
      "c:\\python37\\lib\\site-packages\\ipykernel_launcher.py:3: RuntimeWarning: divide by zero encountered in log10\n",
      "  This is separate from the ipykernel package so we can avoid doing imports until\n",
      "c:\\python37\\lib\\site-packages\\ipykernel_launcher.py:6: RuntimeWarning: divide by zero encountered in log10\n",
      "  \n"
     ]
    },
    {
     "data": {
      "image/png": "[encoded data removed]",
      "text/plain": [
       "<Figure size 360x360 with 1 Axes>"
      ]
     },
     "metadata": {
      "needs_background": "light"
     },
     "output_type": "display_data"
    }
   ],
   "source": [
    "fig, ax = plt.subplots(1, 1, figsize=(5, 5))\n",
    "\n",
    "ax.scatter(np.arange(len(s)), np.log10(np.abs(s_est-s)),\n",
    "           color=\"palevioletred\", edgecolor=\"white\", alpha=0.7)\n",
    "\n",
    "ax.scatter([node_x,node_y], np.log10(np.abs(s_est-s))[[node_x,node_y]],\n",
    "           color=\"black\", edgecolor=\"white\", alpha=0.7)\n",
    "\n",
    "# ax.scatter(s[621], s_est[621],\n",
    "#            color=\"deepskyblue\", edgecolor=\"white\", alpha=0.7)\n",
    "\n",
    "ax.set_xlabel(\"node index\")\n",
    "ax.set_ylabel(\"log10 absolute error\")\n",
    "\n",
    "plt.show()"
   ]
  },
  {
   "cell_type": "markdown",
   "metadata": {},
   "source": [
    "### kth order update"
   ]
  },
  {
   "cell_type": "code",
   "execution_count": 27,
   "metadata": {},
   "outputs": [],
   "source": [
    "s_k = []\n",
    "N_k = []\n",
    "for i in range(3):\n",
    "    s_i, N_i = kth_order_update(A, s_0, P, order=i)\n",
    "    s_k.append(s_i)\n",
    "    N_k.append(N_i)"
   ]
  },
  {
   "cell_type": "code",
   "execution_count": null,
   "metadata": {},
   "outputs": [],
   "source": [
    "error_k = []\n",
    "tot_error_k = []\n",
    "for s_i, N_i in zip(s_k, N_k)"
   ]
  },
  {
   "cell_type": "code",
   "execution_count": null,
   "metadata": {},
   "outputs": [],
   "source": []
  }
 ],
 "metadata": {
  "kernelspec": {
   "display_name": "Python 3",
   "language": "python",
   "name": "python3"
  },
  "language_info": {
   "codemirror_mode": {
    "name": "ipython",
    "version": 3
   },
   "file_extension": ".py",
   "mimetype": "text/x-python",
   "name": "python",
   "nbconvert_exporter": "python",
   "pygments_lexer": "ipython3",
   "version": "3.7.3"
  }
 },
 "nbformat": 4,
 "nbformat_minor": 2
}
