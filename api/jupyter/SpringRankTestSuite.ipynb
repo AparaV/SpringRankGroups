{
 "cells": [
  {
   "cell_type": "code",
   "execution_count": 1,
   "metadata": {},
   "outputs": [
    {
     "name": "stdout",
     "output_type": "stream",
     "text": [
      "Created `%t` as an alias for `%timeit`.\n",
      "Created `%%t` as an alias for `%%timeit`.\n"
     ]
    }
   ],
   "source": [
    "import networkx as nx\n",
    "import numpy as np\n",
    "import scipy.sparse\n",
    "import scipy.sparse.linalg\n",
    "from scipy.sparse import coo_matrix,csr_matrix\n",
    "import matplotlib.pyplot as plt\n",
    "\n",
    "import timeit\n",
    "%alias_magic t timeit\n",
    "\n",
    "import sys\n",
    "sys.path.insert(1, '../')\n",
    "\n",
    "import SpringRank_tools as sr\n",
    "import tools as tl\n",
    "import cProfile\n",
    "\n",
    "import pstats\n",
    "from pstats import SortKey\n",
    "\n",
    "%matplotlib inline\n",
    "%load_ext autoreload\n",
    "%aimport SpringRank_tools\n",
    "%aimport tools\n",
    "%autoreload 1"
   ]
  },
  {
   "cell_type": "code",
   "execution_count": 2,
   "metadata": {},
   "outputs": [],
   "source": [
    "def get_network(N = 50,p = 0.1):\n",
    "    adjacency_list = []\n",
    "    for i in range(N):\n",
    "        for j in range(N):\n",
    "            if np.random.rand() < p:\n",
    "                adjacency_list.append([i,j])\n",
    "    A = np.zeros([N,N])\n",
    "    for edge in adjacency_list:\n",
    "        A[edge[0],edge[1]] += 1\n",
    "    return A"
   ]
  },
  {
   "cell_type": "code",
   "execution_count": 4,
   "metadata": {},
   "outputs": [],
   "source": [
    "A = get_network(N=15000,p=0.005)"
   ]
  },
  {
   "cell_type": "code",
   "execution_count": 5,
   "metadata": {},
   "outputs": [],
   "source": [
    "R = csr_matrix(A)"
   ]
  },
  {
   "cell_type": "code",
   "execution_count": 6,
   "metadata": {},
   "outputs": [
    {
     "name": "stdout",
     "output_type": "stream",
     "text": [
      "6.01 ms ± 64.7 µs per loop (mean ± std. dev. of 7 runs, 100 loops each)\n"
     ]
    }
   ],
   "source": [
    "%t R.sum(axis=0)"
   ]
  },
  {
   "cell_type": "code",
   "execution_count": 7,
   "metadata": {},
   "outputs": [
    {
     "name": "stdout",
     "output_type": "stream",
     "text": [
      "3.23 ms ± 77.8 µs per loop (mean ± std. dev. of 7 runs, 100 loops each)\n"
     ]
    }
   ],
   "source": [
    "%t R.sum(axis=1)"
   ]
  },
  {
   "cell_type": "code",
   "execution_count": 19,
   "metadata": {},
   "outputs": [],
   "source": [
    "from scipy.sparse import coo_matrix,spdiags,csr_matrix\n",
    "from scipy.sparse.csgraph import laplacian\n",
    "def version_1(A):\n",
    "    N = A.shape[0]\n",
    "    k_in = A.sum(axis=0)\n",
    "    k_out = A.sum(axis=1).transpose()\n",
    "    # form the graph laplacian\n",
    "    operator = csr_matrix(\n",
    "        spdiags(k_out+k_in,0,N,N)-A-A.transpose()\n",
    "        )\n",
    "    return operator,k_in,k_out\n",
    "def version_2(A):\n",
    "    N = A.shape[0]\n",
    "    k_in = A.transpose().sum(axis=1)\n",
    "    k_out = A.sum(axis=1)\n",
    "    # form the graph laplacian\n",
    "    operator = csr_matrix(\n",
    "        spdiags((k_out+k_in).transpose(),0,N,N)-A-A.transpose()\n",
    "        )\n",
    "    return operator\n",
    "def version_3(A):\n",
    "    N = A.shape[0]\n",
    "    T = A.transpose()\n",
    "    k_in = T.sum(axis=1)\n",
    "    k_out = A.sum(axis=1)\n",
    "    # form the graph laplacian\n",
    "    operator = csr_matrix(\n",
    "        spdiags((k_out+k_in).transpose(),0,N,N)-A-T\n",
    "        )\n",
    "    return operator\n",
    "def version_4(A):\n",
    "    N = A.shape[0]\n",
    "    T = A.transpose()\n",
    "    k_in = T.sum(axis=1)\n",
    "    k_out = A.sum(axis=1)\n",
    "    # form the graph laplacian\n",
    "    operator = laplacian(A+T)\n",
    "    return operator"
   ]
  },
  {
   "cell_type": "code",
   "execution_count": 20,
   "metadata": {},
   "outputs": [],
   "source": [
    "Op = []\n",
    "Op.append(version_1(R)[0])\n",
    "Op.append(version_2(R))\n",
    "Op.append(version_3(R))\n",
    "Op.append(version_4(R))"
   ]
  },
  {
   "cell_type": "code",
   "execution_count": 21,
   "metadata": {},
   "outputs": [],
   "source": [
    "table = np.zeros([4,4])\n",
    "for idx,x in enumerate(Op):\n",
    "    for idy,y in enumerate(Op):\n",
    "        table[idx,idy] = (x!=y).nnz==0"
   ]
  },
  {
   "cell_type": "code",
   "execution_count": 22,
   "metadata": {},
   "outputs": [
    {
     "data": {
      "text/plain": [
       "array([[1., 1., 1., 1.],\n",
       "       [1., 1., 1., 1.],\n",
       "       [1., 1., 1., 1.],\n",
       "       [1., 1., 1., 1.]])"
      ]
     },
     "execution_count": 22,
     "metadata": {},
     "output_type": "execute_result"
    }
   ],
   "source": [
    "table"
   ]
  },
  {
   "cell_type": "code",
   "execution_count": 23,
   "metadata": {},
   "outputs": [
    {
     "name": "stdout",
     "output_type": "stream",
     "text": [
      "223 ms ± 6.8 ms per loop (mean ± std. dev. of 7 runs, 1 loop each)\n"
     ]
    }
   ],
   "source": [
    "%t version_1(R)"
   ]
  },
  {
   "cell_type": "code",
   "execution_count": 24,
   "metadata": {},
   "outputs": [
    {
     "name": "stdout",
     "output_type": "stream",
     "text": [
      "215 ms ± 2.2 ms per loop (mean ± std. dev. of 7 runs, 1 loop each)\n"
     ]
    }
   ],
   "source": [
    "%t version_2(R)"
   ]
  },
  {
   "cell_type": "code",
   "execution_count": 25,
   "metadata": {},
   "outputs": [
    {
     "name": "stdout",
     "output_type": "stream",
     "text": [
      "217 ms ± 7.76 ms per loop (mean ± std. dev. of 7 runs, 1 loop each)\n"
     ]
    }
   ],
   "source": [
    "%t version_3(R)"
   ]
  },
  {
   "cell_type": "code",
   "execution_count": 26,
   "metadata": {},
   "outputs": [
    {
     "name": "stdout",
     "output_type": "stream",
     "text": [
      "546 ms ± 61.4 ms per loop (mean ± std. dev. of 7 runs, 1 loop each)\n"
     ]
    }
   ],
   "source": [
    "%t version_4(R)"
   ]
  },
  {
   "cell_type": "code",
   "execution_count": 21,
   "metadata": {},
   "outputs": [],
   "source": [
    "op,k_in,k_out = version_1(R)"
   ]
  },
  {
   "cell_type": "code",
   "execution_count": 41,
   "metadata": {},
   "outputs": [],
   "source": [
    "def pad_1(k_in,k_out):\n",
    "    solution_vector = np.append((k_out-k_in),np.matrix(0),axis=1).transpose()\n",
    "    return solution_vector\n",
    "def pad_2(k_in,k_out):\n",
    "    solution_vector = np.zeros(len(k_out)+1)\n",
    "    solution_vector[:len(k_out)] = (k_out-k_in).ravel().transpose()\n",
    "    return solution_vector"
   ]
  },
  {
   "cell_type": "markdown",
   "metadata": {},
   "source": [
    "### SpringRank"
   ]
  },
  {
   "cell_type": "code",
   "execution_count": 2,
   "metadata": {},
   "outputs": [],
   "source": [
    "inadjacency = '../../data/US_CS_adjacency.dat'\n",
    "G = tl.build_graph_from_adjacency(inadjacency)\n",
    "nodes = list(G.nodes())\n",
    "A= np.array(nx.to_numpy_matrix(G, nodelist=nodes))"
   ]
  },
  {
   "cell_type": "code",
   "execution_count": 67,
   "metadata": {},
   "outputs": [],
   "source": [
    "N = 1000\n",
    "beta = 0.1\n",
    "alpha = 0.1\n",
    "K = 20\n",
    "A_n = sr.SpringRank_planted_network(N, beta, alpha, K, np.random)\n",
    "A = np.array(nx.to_numpy_matrix(A_n))"
   ]
  },
  {
   "cell_type": "code",
   "execution_count": 71,
   "metadata": {},
   "outputs": [
    {
     "name": "stdout",
     "output_type": "stream",
     "text": [
      "172 ms ± 24.1 ms per loop (mean ± std. dev. of 7 runs, 10 loops each)\n"
     ]
    }
   ],
   "source": [
    "%t sr.SpringRank(A, alpha=0)"
   ]
  },
  {
   "cell_type": "code",
   "execution_count": 72,
   "metadata": {},
   "outputs": [
    {
     "name": "stdout",
     "output_type": "stream",
     "text": [
      "212 ms ± 19.3 ms per loop (mean ± std. dev. of 7 runs, 1 loop each)\n"
     ]
    }
   ],
   "source": [
    "%t sr.SpringRank(A, alpha=0.1)"
   ]
  },
  {
   "cell_type": "markdown",
   "metadata": {},
   "source": [
    "### Sparse vs. Dense SpringRank"
   ]
  },
  {
   "cell_type": "code",
   "execution_count": 11,
   "metadata": {},
   "outputs": [],
   "source": [
    "A = get_network(N=15000, p=0.005)\n",
    "A_csr = csr_matrix(A)"
   ]
  },
  {
   "cell_type": "code",
   "execution_count": 12,
   "metadata": {},
   "outputs": [
    {
     "name": "stdout",
     "output_type": "stream",
     "text": [
      "30.4 s ± 1.72 s per loop (mean ± std. dev. of 7 runs, 1 loop each)\n"
     ]
    }
   ],
   "source": [
    "%t sr.SpringRank(A)"
   ]
  },
  {
   "cell_type": "code",
   "execution_count": 13,
   "metadata": {},
   "outputs": [
    {
     "name": "stdout",
     "output_type": "stream",
     "text": [
      "1.21 s ± 31 ms per loop (mean ± std. dev. of 7 runs, 1 loop each)\n"
     ]
    }
   ],
   "source": [
    "%t sr.SpringRank(A_csr)"
   ]
  },
  {
   "cell_type": "markdown",
   "metadata": {},
   "source": [
    "### Online Ranking"
   ]
  },
  {
   "cell_type": "code",
   "execution_count": 26,
   "metadata": {},
   "outputs": [],
   "source": [
    "def get_neighbors_1(G, P):\n",
    "    N = set()\n",
    "    m = G.shape[1]\n",
    "    for x in P:\n",
    "        for y in range(m):\n",
    "            if y not in P and (G[x, y] != 0 or G[y, x] != 0):\n",
    "                N.add(y)\n",
    "    return list(N)\n",
    "\n",
    "def get_neighbors_2(G, P):\n",
    "    idx_0 = set(np.nonzero(G[P])[1])\n",
    "    idx_1 = set(np.nonzero(G[:,P])[0])\n",
    "    N = idx_0.union(idx_1) - set(P)\n",
    "    return list(N)"
   ]
  },
  {
   "cell_type": "code",
   "execution_count": 31,
   "metadata": {},
   "outputs": [],
   "source": [
    "A = get_network(N=1500,p=0.005)\n",
    "P = np.random.randint(0, 1500, size=(30))"
   ]
  },
  {
   "cell_type": "code",
   "execution_count": 32,
   "metadata": {},
   "outputs": [
    {
     "name": "stdout",
     "output_type": "stream",
     "text": [
      "731 ms ± 55.1 ms per loop (mean ± std. dev. of 7 runs, 1 loop each)\n"
     ]
    }
   ],
   "source": [
    "%t get_neighbors_1(A, P)"
   ]
  },
  {
   "cell_type": "code",
   "execution_count": 33,
   "metadata": {},
   "outputs": [
    {
     "name": "stdout",
     "output_type": "stream",
     "text": [
      "4.5 ms ± 320 µs per loop (mean ± std. dev. of 7 runs, 100 loops each)\n"
     ]
    }
   ],
   "source": [
    "%t get_neighbors_2(A, P)"
   ]
  },
  {
   "cell_type": "code",
   "execution_count": null,
   "metadata": {},
   "outputs": [],
   "source": []
  }
 ],
 "metadata": {
  "kernelspec": {
   "display_name": "Python 3",
   "language": "python",
   "name": "python3"
  },
  "language_info": {
   "codemirror_mode": {
    "name": "ipython",
    "version": 3
   },
   "file_extension": ".py",
   "mimetype": "text/x-python",
   "name": "python",
   "nbconvert_exporter": "python",
   "pygments_lexer": "ipython3",
   "version": "3.7.3"
  }
 },
 "nbformat": 4,
 "nbformat_minor": 2
}
