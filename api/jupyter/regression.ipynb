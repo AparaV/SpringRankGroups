{
 "cells": [
  {
   "cell_type": "code",
   "execution_count": 13,
   "metadata": {},
   "outputs": [
    {
     "name": "stdout",
     "output_type": "stream",
     "text": [
      "The autoreload extension is already loaded. To reload it, use:\n",
      "  %reload_ext autoreload\n"
     ]
    }
   ],
   "source": [
    "import networkx as nx\n",
    "import numpy as np\n",
    "import matplotlib.pyplot as plt\n",
    "import numpy.linalg as LA\n",
    "import scipy.sparse.linalg as spLA\n",
    "import scipy\n",
    "from scipy import sparse as sp\n",
    "from scipy.sparse import coo_matrix,spdiags,csr_matrix\n",
    "\n",
    "import sys\n",
    "sys.path.insert(1, '../')\n",
    "\n",
    "import SpringRank_tools as sr\n",
    "import tools as tl\n",
    "\n",
    "%load_ext autoreload\n",
    "%aimport SpringRank_tools\n",
    "%aimport tools\n",
    "%autoreload 1\n",
    "\n",
    "%matplotlib inline"
   ]
  },
  {
   "cell_type": "code",
   "execution_count": 18,
   "metadata": {},
   "outputs": [],
   "source": [
    "N = 100\n",
    "beta = 0.1\n",
    "alpha = 1 \n",
    "K = 20\n",
    "p_ij = 1 / (1 + np.exp(-2*beta))\n",
    "\n",
    "A, s = sr.SpringRank_planted_network(N, beta, alpha, K, return_ranks=True)\n",
    "s = tl.adjust_ranks(s, A, p_ij=p_ij)\n",
    "\n",
    "s_sr = sr.SpringRank(A)\n",
    "s_sr = tl.adjust_ranks(s_sr, A, p_ij=p_ij)"
   ]
  },
  {
   "cell_type": "code",
   "execution_count": 19,
   "metadata": {},
   "outputs": [],
   "source": [
    "# Regression\n",
    "\n",
    "A_n2 = np.sqrt(A.ravel())\n",
    "\n",
    "I_left = np.zeros((N*N, N))\n",
    "I_right = np.zeros((N*N, N))\n",
    "for i in range(N):\n",
    "    I_left[i*N:(i+1)*N, i] = 1\n",
    "    I_right[i*N:(i+1)*N, :] = np.eye(N)\n",
    "\n",
    "permute_operator = I_left - I_right\n",
    "A_operator = np.diag(A_n2)\n",
    "left_operator = np.matmul(A_operator, permute_operator)"
   ]
  },
  {
   "cell_type": "code",
   "execution_count": 20,
   "metadata": {},
   "outputs": [],
   "source": [
    "result = scipy.linalg.lstsq(left_operator, A_n2)\n",
    "s_est = result[0]\n",
    "s_est = tl.adjust_ranks(s_est, A, p_ij=p_ij)"
   ]
  },
  {
   "cell_type": "code",
   "execution_count": 11,
   "metadata": {},
   "outputs": [
    {
     "name": "stdout",
     "output_type": "stream",
     "text": [
      "(100, 10)\n",
      "9\n"
     ]
    }
   ],
   "source": [
    "Q = scipy.linalg.null_space(left_operator)\n",
    "\n",
    "print(left_operator.shape)\n",
    "print(np.linalg.matrix_rank(left_operator))"
   ]
  },
  {
   "cell_type": "code",
   "execution_count": null,
   "metadata": {},
   "outputs": [],
   "source": []
  },
  {
   "cell_type": "code",
   "execution_count": null,
   "metadata": {},
   "outputs": [],
   "source": []
  },
  {
   "cell_type": "code",
   "execution_count": null,
   "metadata": {},
   "outputs": [],
   "source": []
  },
  {
   "cell_type": "code",
   "execution_count": 21,
   "metadata": {},
   "outputs": [
    {
     "data": {
      "image/png": "[encoded data removed]",
      "text/plain": [
       "<Figure size 432x432 with 1 Axes>"
      ]
     },
     "metadata": {
      "needs_background": "light"
     },
     "output_type": "display_data"
    }
   ],
   "source": [
    "plt.figure(figsize=(6, 6))\n",
    "\n",
    "plt.scatter(s, s_est, color=\"deepskyblue\", edgecolor=\"slateblue\", label=\"Least Squares\")\n",
    "plt.scatter(s, s_sr, color=\"sandybrown\", edgecolor=\"firebrick\", label=\"SpringRank\")\n",
    "plt.xlabel(\"Planted scores\")\n",
    "plt.ylabel(\"Recovered scores\")\n",
    "\n",
    "plt.legend(loc=\"center left\", bbox_to_anchor=(1, 0.5))\n",
    "# plt.axis(\"square\")\n",
    "\n",
    "plt.show()"
   ]
  },
  {
   "cell_type": "code",
   "execution_count": 90,
   "metadata": {},
   "outputs": [
    {
     "name": "stdout",
     "output_type": "stream",
     "text": [
      "149.68000755293917\n",
      "156.9871738027569\n"
     ]
    }
   ],
   "source": [
    "residuals_lstsq = np.matmul(left_operator, s_est)\n",
    "norm_lstsq = LA.norm(A_n2 - residuals_lstsq)\n",
    "print(norm_lstsq)\n",
    "\n",
    "residuals_sr = np.matmul(left_operator, s_sr)\n",
    "norm_sr = LA.norm(A_n2 - residuals_sr)\n",
    "print(norm_sr)"
   ]
  },
  {
   "cell_type": "code",
   "execution_count": 45,
   "metadata": {},
   "outputs": [
    {
     "name": "stdout",
     "output_type": "stream",
     "text": [
      "[[ 0.  0.  0.  0.  0.  0.  0.  0.  0.  0.]\n",
      " [ 1. -1.  0.  0.  0.  0.  0.  0.  0.  0.]\n",
      " [ 1.  0. -1.  0.  0.  0.  0.  0.  0.  0.]\n",
      " [ 1.  0.  0. -1.  0.  0.  0.  0.  0.  0.]\n",
      " [ 1.  0.  0.  0. -1.  0.  0.  0.  0.  0.]\n",
      " [ 1.  0.  0.  0.  0. -1.  0.  0.  0.  0.]\n",
      " [ 1.  0.  0.  0.  0.  0. -1.  0.  0.  0.]\n",
      " [ 1.  0.  0.  0.  0.  0.  0. -1.  0.  0.]\n",
      " [ 1.  0.  0.  0.  0.  0.  0.  0. -1.  0.]\n",
      " [ 1.  0.  0.  0.  0.  0.  0.  0.  0. -1.]\n",
      " [-1.  1.  0.  0.  0.  0.  0.  0.  0.  0.]\n",
      " [ 0.  0.  0.  0.  0.  0.  0.  0.  0.  0.]\n",
      " [ 0.  1. -1.  0.  0.  0.  0.  0.  0.  0.]\n",
      " [ 0.  1.  0. -1.  0.  0.  0.  0.  0.  0.]\n",
      " [ 0.  1.  0.  0. -1.  0.  0.  0.  0.  0.]\n",
      " [ 0.  1.  0.  0.  0. -1.  0.  0.  0.  0.]\n",
      " [ 0.  1.  0.  0.  0.  0. -1.  0.  0.  0.]\n",
      " [ 0.  1.  0.  0.  0.  0.  0. -1.  0.  0.]\n",
      " [ 0.  1.  0.  0.  0.  0.  0.  0. -1.  0.]\n",
      " [ 0.  1.  0.  0.  0.  0.  0.  0.  0. -1.]\n",
      " [-1.  0.  1.  0.  0.  0.  0.  0.  0.  0.]\n",
      " [ 0. -1.  1.  0.  0.  0.  0.  0.  0.  0.]\n",
      " [ 0.  0.  0.  0.  0.  0.  0.  0.  0.  0.]\n",
      " [ 0.  0.  1. -1.  0.  0.  0.  0.  0.  0.]\n",
      " [ 0.  0.  1.  0. -1.  0.  0.  0.  0.  0.]\n",
      " [ 0.  0.  1.  0.  0. -1.  0.  0.  0.  0.]\n",
      " [ 0.  0.  1.  0.  0.  0. -1.  0.  0.  0.]\n",
      " [ 0.  0.  1.  0.  0.  0.  0. -1.  0.  0.]\n",
      " [ 0.  0.  1.  0.  0.  0.  0.  0. -1.  0.]\n",
      " [ 0.  0.  1.  0.  0.  0.  0.  0.  0. -1.]\n",
      " [-1.  0.  0.  1.  0.  0.  0.  0.  0.  0.]\n",
      " [ 0. -1.  0.  1.  0.  0.  0.  0.  0.  0.]\n",
      " [ 0.  0. -1.  1.  0.  0.  0.  0.  0.  0.]\n",
      " [ 0.  0.  0.  0.  0.  0.  0.  0.  0.  0.]\n",
      " [ 0.  0.  0.  1. -1.  0.  0.  0.  0.  0.]\n",
      " [ 0.  0.  0.  1.  0. -1.  0.  0.  0.  0.]\n",
      " [ 0.  0.  0.  1.  0.  0. -1.  0.  0.  0.]\n",
      " [ 0.  0.  0.  1.  0.  0.  0. -1.  0.  0.]\n",
      " [ 0.  0.  0.  1.  0.  0.  0.  0. -1.  0.]\n",
      " [ 0.  0.  0.  1.  0.  0.  0.  0.  0. -1.]\n",
      " [-1.  0.  0.  0.  1.  0.  0.  0.  0.  0.]\n",
      " [ 0. -1.  0.  0.  1.  0.  0.  0.  0.  0.]\n",
      " [ 0.  0. -1.  0.  1.  0.  0.  0.  0.  0.]\n",
      " [ 0.  0.  0. -1.  1.  0.  0.  0.  0.  0.]\n",
      " [ 0.  0.  0.  0.  0.  0.  0.  0.  0.  0.]\n",
      " [ 0.  0.  0.  0.  1. -1.  0.  0.  0.  0.]\n",
      " [ 0.  0.  0.  0.  1.  0. -1.  0.  0.  0.]\n",
      " [ 0.  0.  0.  0.  1.  0.  0. -1.  0.  0.]\n",
      " [ 0.  0.  0.  0.  1.  0.  0.  0. -1.  0.]\n",
      " [ 0.  0.  0.  0.  1.  0.  0.  0.  0. -1.]\n",
      " [-1.  0.  0.  0.  0.  1.  0.  0.  0.  0.]\n",
      " [ 0. -1.  0.  0.  0.  1.  0.  0.  0.  0.]\n",
      " [ 0.  0. -1.  0.  0.  1.  0.  0.  0.  0.]\n",
      " [ 0.  0.  0. -1.  0.  1.  0.  0.  0.  0.]\n",
      " [ 0.  0.  0.  0. -1.  1.  0.  0.  0.  0.]\n",
      " [ 0.  0.  0.  0.  0.  0.  0.  0.  0.  0.]\n",
      " [ 0.  0.  0.  0.  0.  1. -1.  0.  0.  0.]\n",
      " [ 0.  0.  0.  0.  0.  1.  0. -1.  0.  0.]\n",
      " [ 0.  0.  0.  0.  0.  1.  0.  0. -1.  0.]\n",
      " [ 0.  0.  0.  0.  0.  1.  0.  0.  0. -1.]\n",
      " [-1.  0.  0.  0.  0.  0.  1.  0.  0.  0.]\n",
      " [ 0. -1.  0.  0.  0.  0.  1.  0.  0.  0.]\n",
      " [ 0.  0. -1.  0.  0.  0.  1.  0.  0.  0.]\n",
      " [ 0.  0.  0. -1.  0.  0.  1.  0.  0.  0.]\n",
      " [ 0.  0.  0.  0. -1.  0.  1.  0.  0.  0.]\n",
      " [ 0.  0.  0.  0.  0. -1.  1.  0.  0.  0.]\n",
      " [ 0.  0.  0.  0.  0.  0.  0.  0.  0.  0.]\n",
      " [ 0.  0.  0.  0.  0.  0.  1. -1.  0.  0.]\n",
      " [ 0.  0.  0.  0.  0.  0.  1.  0. -1.  0.]\n",
      " [ 0.  0.  0.  0.  0.  0.  1.  0.  0. -1.]\n",
      " [-1.  0.  0.  0.  0.  0.  0.  1.  0.  0.]\n",
      " [ 0. -1.  0.  0.  0.  0.  0.  1.  0.  0.]\n",
      " [ 0.  0. -1.  0.  0.  0.  0.  1.  0.  0.]\n",
      " [ 0.  0.  0. -1.  0.  0.  0.  1.  0.  0.]\n",
      " [ 0.  0.  0.  0. -1.  0.  0.  1.  0.  0.]\n",
      " [ 0.  0.  0.  0.  0. -1.  0.  1.  0.  0.]\n",
      " [ 0.  0.  0.  0.  0.  0. -1.  1.  0.  0.]\n",
      " [ 0.  0.  0.  0.  0.  0.  0.  0.  0.  0.]\n",
      " [ 0.  0.  0.  0.  0.  0.  0.  1. -1.  0.]\n",
      " [ 0.  0.  0.  0.  0.  0.  0.  1.  0. -1.]\n",
      " [-1.  0.  0.  0.  0.  0.  0.  0.  1.  0.]\n",
      " [ 0. -1.  0.  0.  0.  0.  0.  0.  1.  0.]\n",
      " [ 0.  0. -1.  0.  0.  0.  0.  0.  1.  0.]\n",
      " [ 0.  0.  0. -1.  0.  0.  0.  0.  1.  0.]\n",
      " [ 0.  0.  0.  0. -1.  0.  0.  0.  1.  0.]\n",
      " [ 0.  0.  0.  0.  0. -1.  0.  0.  1.  0.]\n",
      " [ 0.  0.  0.  0.  0.  0. -1.  0.  1.  0.]\n",
      " [ 0.  0.  0.  0.  0.  0.  0. -1.  1.  0.]\n",
      " [ 0.  0.  0.  0.  0.  0.  0.  0.  0.  0.]\n",
      " [ 0.  0.  0.  0.  0.  0.  0.  0.  1. -1.]\n",
      " [-1.  0.  0.  0.  0.  0.  0.  0.  0.  1.]\n",
      " [ 0. -1.  0.  0.  0.  0.  0.  0.  0.  1.]\n",
      " [ 0.  0. -1.  0.  0.  0.  0.  0.  0.  1.]\n",
      " [ 0.  0.  0. -1.  0.  0.  0.  0.  0.  1.]\n",
      " [ 0.  0.  0.  0. -1.  0.  0.  0.  0.  1.]\n",
      " [ 0.  0.  0.  0.  0. -1.  0.  0.  0.  1.]\n",
      " [ 0.  0.  0.  0.  0.  0. -1.  0.  0.  1.]\n",
      " [ 0.  0.  0.  0.  0.  0.  0. -1.  0.  1.]\n",
      " [ 0.  0.  0.  0.  0.  0.  0.  0. -1.  1.]\n",
      " [ 0.  0.  0.  0.  0.  0.  0.  0.  0.  0.]]\n"
     ]
    }
   ],
   "source": [
    "print(permute_operator)"
   ]
  },
  {
   "cell_type": "code",
   "execution_count": 49,
   "metadata": {},
   "outputs": [
    {
     "name": "stdout",
     "output_type": "stream",
     "text": [
      "[[0. 5. 1. 2. 4. 3. 0. 1. 3. 4.]\n",
      " [1. 0. 3. 2. 3. 6. 3. 0. 3. 0.]\n",
      " [3. 4. 0. 1. 2. 1. 1. 0. 3. 0.]\n",
      " [2. 5. 3. 0. 3. 1. 3. 0. 4. 1.]\n",
      " [0. 7. 3. 3. 0. 3. 0. 1. 4. 0.]\n",
      " [2. 3. 3. 2. 4. 0. 0. 0. 6. 0.]\n",
      " [0. 4. 1. 0. 1. 1. 0. 0. 2. 0.]\n",
      " [3. 2. 3. 0. 1. 3. 0. 0. 1. 1.]\n",
      " [0. 6. 0. 1. 3. 1. 2. 1. 0. 0.]\n",
      " [1. 0. 1. 1. 0. 1. 0. 6. 0. 0.]]\n"
     ]
    }
   ],
   "source": [
    "print(A)"
   ]
  },
  {
   "cell_type": "code",
   "execution_count": 58,
   "metadata": {},
   "outputs": [
    {
     "name": "stdout",
     "output_type": "stream",
     "text": [
      "[[ 0.  0.  0.  0.  0.  0.  0.  0.  0.  0.]\n",
      " [ 5. -5.  0.  0.  0.  0.  0.  0.  0.  0.]\n",
      " [ 1.  0. -1.  0.  0.  0.  0.  0.  0.  0.]\n",
      " [ 2.  0.  0. -2.  0.  0.  0.  0.  0.  0.]\n",
      " [ 4.  0.  0.  0. -4.  0.  0.  0.  0.  0.]\n",
      " [ 3.  0.  0.  0.  0. -3.  0.  0.  0.  0.]\n",
      " [ 0.  0.  0.  0.  0.  0.  0.  0.  0.  0.]\n",
      " [ 1.  0.  0.  0.  0.  0.  0. -1.  0.  0.]\n",
      " [ 3.  0.  0.  0.  0.  0.  0.  0. -3.  0.]\n",
      " [ 4.  0.  0.  0.  0.  0.  0.  0.  0. -4.]\n",
      " [-1.  1.  0.  0.  0.  0.  0.  0.  0.  0.]\n",
      " [ 0.  0.  0.  0.  0.  0.  0.  0.  0.  0.]\n",
      " [ 0.  3. -3.  0.  0.  0.  0.  0.  0.  0.]\n",
      " [ 0.  2.  0. -2.  0.  0.  0.  0.  0.  0.]\n",
      " [ 0.  3.  0.  0. -3.  0.  0.  0.  0.  0.]\n",
      " [ 0.  6.  0.  0.  0. -6.  0.  0.  0.  0.]\n",
      " [ 0.  3.  0.  0.  0.  0. -3.  0.  0.  0.]\n",
      " [ 0.  0.  0.  0.  0.  0.  0.  0.  0.  0.]\n",
      " [ 0.  3.  0.  0.  0.  0.  0.  0. -3.  0.]\n",
      " [ 0.  0.  0.  0.  0.  0.  0.  0.  0.  0.]\n",
      " [-3.  0.  3.  0.  0.  0.  0.  0.  0.  0.]\n",
      " [ 0. -4.  4.  0.  0.  0.  0.  0.  0.  0.]\n",
      " [ 0.  0.  0.  0.  0.  0.  0.  0.  0.  0.]\n",
      " [ 0.  0.  1. -1.  0.  0.  0.  0.  0.  0.]\n",
      " [ 0.  0.  2.  0. -2.  0.  0.  0.  0.  0.]\n",
      " [ 0.  0.  1.  0.  0. -1.  0.  0.  0.  0.]\n",
      " [ 0.  0.  1.  0.  0.  0. -1.  0.  0.  0.]\n",
      " [ 0.  0.  0.  0.  0.  0.  0.  0.  0.  0.]\n",
      " [ 0.  0.  3.  0.  0.  0.  0.  0. -3.  0.]\n",
      " [ 0.  0.  0.  0.  0.  0.  0.  0.  0.  0.]\n",
      " [-2.  0.  0.  2.  0.  0.  0.  0.  0.  0.]\n",
      " [ 0. -5.  0.  5.  0.  0.  0.  0.  0.  0.]\n",
      " [ 0.  0. -3.  3.  0.  0.  0.  0.  0.  0.]\n",
      " [ 0.  0.  0.  0.  0.  0.  0.  0.  0.  0.]\n",
      " [ 0.  0.  0.  3. -3.  0.  0.  0.  0.  0.]\n",
      " [ 0.  0.  0.  1.  0. -1.  0.  0.  0.  0.]\n",
      " [ 0.  0.  0.  3.  0.  0. -3.  0.  0.  0.]\n",
      " [ 0.  0.  0.  0.  0.  0.  0.  0.  0.  0.]\n",
      " [ 0.  0.  0.  4.  0.  0.  0.  0. -4.  0.]\n",
      " [ 0.  0.  0.  1.  0.  0.  0.  0.  0. -1.]\n",
      " [ 0.  0.  0.  0.  0.  0.  0.  0.  0.  0.]\n",
      " [ 0. -7.  0.  0.  7.  0.  0.  0.  0.  0.]\n",
      " [ 0.  0. -3.  0.  3.  0.  0.  0.  0.  0.]\n",
      " [ 0.  0.  0. -3.  3.  0.  0.  0.  0.  0.]\n",
      " [ 0.  0.  0.  0.  0.  0.  0.  0.  0.  0.]\n",
      " [ 0.  0.  0.  0.  3. -3.  0.  0.  0.  0.]\n",
      " [ 0.  0.  0.  0.  0.  0.  0.  0.  0.  0.]\n",
      " [ 0.  0.  0.  0.  1.  0.  0. -1.  0.  0.]\n",
      " [ 0.  0.  0.  0.  4.  0.  0.  0. -4.  0.]\n",
      " [ 0.  0.  0.  0.  0.  0.  0.  0.  0.  0.]\n",
      " [-2.  0.  0.  0.  0.  2.  0.  0.  0.  0.]\n",
      " [ 0. -3.  0.  0.  0.  3.  0.  0.  0.  0.]\n",
      " [ 0.  0. -3.  0.  0.  3.  0.  0.  0.  0.]\n",
      " [ 0.  0.  0. -2.  0.  2.  0.  0.  0.  0.]\n",
      " [ 0.  0.  0.  0. -4.  4.  0.  0.  0.  0.]\n",
      " [ 0.  0.  0.  0.  0.  0.  0.  0.  0.  0.]\n",
      " [ 0.  0.  0.  0.  0.  0.  0.  0.  0.  0.]\n",
      " [ 0.  0.  0.  0.  0.  0.  0.  0.  0.  0.]\n",
      " [ 0.  0.  0.  0.  0.  6.  0.  0. -6.  0.]\n",
      " [ 0.  0.  0.  0.  0.  0.  0.  0.  0.  0.]\n",
      " [ 0.  0.  0.  0.  0.  0.  0.  0.  0.  0.]\n",
      " [ 0. -4.  0.  0.  0.  0.  4.  0.  0.  0.]\n",
      " [ 0.  0. -1.  0.  0.  0.  1.  0.  0.  0.]\n",
      " [ 0.  0.  0.  0.  0.  0.  0.  0.  0.  0.]\n",
      " [ 0.  0.  0.  0. -1.  0.  1.  0.  0.  0.]\n",
      " [ 0.  0.  0.  0.  0. -1.  1.  0.  0.  0.]\n",
      " [ 0.  0.  0.  0.  0.  0.  0.  0.  0.  0.]\n",
      " [ 0.  0.  0.  0.  0.  0.  0.  0.  0.  0.]\n",
      " [ 0.  0.  0.  0.  0.  0.  2.  0. -2.  0.]\n",
      " [ 0.  0.  0.  0.  0.  0.  0.  0.  0.  0.]\n",
      " [-3.  0.  0.  0.  0.  0.  0.  3.  0.  0.]\n",
      " [ 0. -2.  0.  0.  0.  0.  0.  2.  0.  0.]\n",
      " [ 0.  0. -3.  0.  0.  0.  0.  3.  0.  0.]\n",
      " [ 0.  0.  0.  0.  0.  0.  0.  0.  0.  0.]\n",
      " [ 0.  0.  0.  0. -1.  0.  0.  1.  0.  0.]\n",
      " [ 0.  0.  0.  0.  0. -3.  0.  3.  0.  0.]\n",
      " [ 0.  0.  0.  0.  0.  0.  0.  0.  0.  0.]\n",
      " [ 0.  0.  0.  0.  0.  0.  0.  0.  0.  0.]\n",
      " [ 0.  0.  0.  0.  0.  0.  0.  1. -1.  0.]\n",
      " [ 0.  0.  0.  0.  0.  0.  0.  1.  0. -1.]\n",
      " [ 0.  0.  0.  0.  0.  0.  0.  0.  0.  0.]\n",
      " [ 0. -6.  0.  0.  0.  0.  0.  0.  6.  0.]\n",
      " [ 0.  0.  0.  0.  0.  0.  0.  0.  0.  0.]\n",
      " [ 0.  0.  0. -1.  0.  0.  0.  0.  1.  0.]\n",
      " [ 0.  0.  0.  0. -3.  0.  0.  0.  3.  0.]\n",
      " [ 0.  0.  0.  0.  0. -1.  0.  0.  1.  0.]\n",
      " [ 0.  0.  0.  0.  0.  0. -2.  0.  2.  0.]\n",
      " [ 0.  0.  0.  0.  0.  0.  0. -1.  1.  0.]\n",
      " [ 0.  0.  0.  0.  0.  0.  0.  0.  0.  0.]\n",
      " [ 0.  0.  0.  0.  0.  0.  0.  0.  0.  0.]\n",
      " [-1.  0.  0.  0.  0.  0.  0.  0.  0.  1.]\n",
      " [ 0.  0.  0.  0.  0.  0.  0.  0.  0.  0.]\n",
      " [ 0.  0. -1.  0.  0.  0.  0.  0.  0.  1.]\n",
      " [ 0.  0.  0. -1.  0.  0.  0.  0.  0.  1.]\n",
      " [ 0.  0.  0.  0.  0.  0.  0.  0.  0.  0.]\n",
      " [ 0.  0.  0.  0.  0. -1.  0.  0.  0.  1.]\n",
      " [ 0.  0.  0.  0.  0.  0.  0.  0.  0.  0.]\n",
      " [ 0.  0.  0.  0.  0.  0.  0. -6.  0.  6.]\n",
      " [ 0.  0.  0.  0.  0.  0.  0.  0.  0.  0.]\n",
      " [ 0.  0.  0.  0.  0.  0.  0.  0.  0.  0.]]\n"
     ]
    }
   ],
   "source": [
    "print(left_operator)"
   ]
  },
  {
   "cell_type": "code",
   "execution_count": null,
   "metadata": {},
   "outputs": [],
   "source": []
  }
 ],
 "metadata": {
  "kernelspec": {
   "display_name": "Python 3",
   "language": "python",
   "name": "python3"
  },
  "language_info": {
   "codemirror_mode": {
    "name": "ipython",
    "version": 3
   },
   "file_extension": ".py",
   "mimetype": "text/x-python",
   "name": "python",
   "nbconvert_exporter": "python",
   "pygments_lexer": "ipython3",
   "version": "3.7.3"
  }
 },
 "nbformat": 4,
 "nbformat_minor": 2
}
