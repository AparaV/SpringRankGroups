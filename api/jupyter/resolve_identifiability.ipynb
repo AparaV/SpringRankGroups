{
 "cells": [
  {
   "cell_type": "code",
   "execution_count": 1,
   "metadata": {},
   "outputs": [],
   "source": [
    "import networkx as nx\n",
    "import numpy as np\n",
    "import matplotlib.pyplot as plt\n",
    "import numpy.linalg as LA\n",
    "import scipy\n",
    "\n",
    "import sys\n",
    "sys.path.insert(1, '../')\n",
    "\n",
    "import SpringRank_tools as sr\n",
    "import tools as tl\n",
    "\n",
    "%load_ext autoreload\n",
    "%aimport SpringRank_tools\n",
    "%aimport tools\n",
    "%autoreload 1\n",
    "\n",
    "%matplotlib inline"
   ]
  },
  {
   "cell_type": "markdown",
   "metadata": {},
   "source": [
    "# Chess games\n",
    "\n",
    "- 100 players\n",
    "- 2 groups (white and black)\n",
    "- Can change groups "
   ]
  },
  {
   "cell_type": "code",
   "execution_count": 13,
   "metadata": {},
   "outputs": [],
   "source": [
    "N = 100\n",
    "beta = 0.1\n",
    "alpha = 1 \n",
    "K = 20\n",
    "p_ij = 1 / (1 + np.exp(-2*beta))\n",
    "\n",
    "variance = 1 / np.sqrt(alpha * beta)\n",
    "individual_scores = np.random.normal(0, variance, N)\n",
    "\n",
    "theta = np.array([0.5, 0]) # white gets +0.5 advantage\n",
    "\n",
    "groups_1 = np.random.randint(0, 2, N)\n",
    "G_1 = np.zeros((N, 2))\n",
    "for j, g_j in enumerate(groups_1):\n",
    "    G_1[j, g_j] = 1\n",
    "    \n",
    "ranks_1 = individual_scores + np.matmul(G_1, theta)    \n",
    "    \n",
    "G_2 = np.abs(G_1 - 1)\n",
    "ranks_2 = individual_scores + np.matmul(G_2, theta)"
   ]
  },
  {
   "cell_type": "code",
   "execution_count": 23,
   "metadata": {},
   "outputs": [],
   "source": [
    "Z_1 = 0\n",
    "Z_2 = 0\n",
    "scaled_energy_1 = np.zeros((N, N))\n",
    "scaled_energy_2 = np.zeros((N, N))\n",
    "for i in range(N):\n",
    "    for j in range(N):\n",
    "        energy_1_ij = 0.5 * np.power(ranks_1[i] - ranks_1[j] - 1, 2)\n",
    "        scaled_energy_1[i, j] =  np.exp(-beta * energy_1_ij)\n",
    "        Z_1 += scaled_energy_1[i, j]\n",
    "        \n",
    "        energy_2_ij = 0.5 * np.power(ranks_2[i] - ranks_2[j] - 1, 2)\n",
    "        scaled_energy_2[i, j] =  np.exp(-beta * energy_2_ij)\n",
    "        Z_2 += scaled_energy_2[i, j]\n",
    "c_1 = 20*N / Z_1\n",
    "c_2 = 5*N / Z_2\n",
    "\n",
    "A_1 = np.zeros((N, N))\n",
    "A_2 = np.zeros((N, N))\n",
    "for i in range(N):\n",
    "    for j in range(N):\n",
    "        if i == j:\n",
    "            continue\n",
    "        if G_1[i, 0] == G_1[j, 1]:\n",
    "            A_1[i, j] = np.random.poisson(c_1 * scaled_energy_1[i, j])\n",
    "        if G_2[i, 0] == G_2[j, 1]:\n",
    "            A_2[i, j] = np.random.poisson(c_2 * scaled_energy_2[i, j])"
   ]
  },
  {
   "cell_type": "code",
   "execution_count": 24,
   "metadata": {},
   "outputs": [],
   "source": [
    "# Construct full operator with Laplacian\n",
    "\n",
    "L1, d1 = tl.laplacian(A_1)\n",
    "L2, d2 = tl.laplacian(A_2)\n",
    "\n",
    "LHS_top1 = np.concatenate((L1, np.matmul(L1, G_1)), axis=1)\n",
    "# LHS_top2 = np.concatenate((np.matmul(G_1.T, L1),\n",
    "#                            np.matmul(G_1.T, np.matmul(L1, G_1))), axis=1)\n",
    "# LHS_top = np.concatenate((LHS_top1, LHS_top2), axis=0)\n",
    "\n",
    "LHS_bot1 = np.concatenate((L2, np.matmul(L2, G_2)), axis=1)\n",
    "# LHS_bot2 = np.concatenate((np.matmul(G_2.T, L2),\n",
    "#                            np.matmul(G_2.T, np.matmul(L2, G_2))), axis=1)\n",
    "# LHS_bot = np.concatenate((LHS_bot1, LHS_bot2), axis=0)\n",
    "\n",
    "LHS = np.concatenate((LHS_top1, LHS_bot1), axis=0)\n",
    "\n",
    "# RHS_top = np.concatenate((d1, np.matmul(G_1.T, d1)), axis=0)\n",
    "# RHS_bot = np.concatenate((d2, np.matmul(G_2.T, d2)), axis=0)\n",
    "# RHS = np.concatenate((RHS_top, RHS_bot), axis=0)\n",
    "\n",
    "RHS = np.concatenate((d1, d2), axis=0)"
   ]
  },
  {
   "cell_type": "code",
   "execution_count": 25,
   "metadata": {},
   "outputs": [
    {
     "name": "stdout",
     "output_type": "stream",
     "text": [
      "(200, 102)\n"
     ]
    },
    {
     "data": {
      "text/plain": [
       "99"
      ]
     },
     "execution_count": 25,
     "metadata": {},
     "output_type": "execute_result"
    }
   ],
   "source": [
    "print(LHS.shape)\n",
    "LA.matrix_rank(LHS)"
   ]
  },
  {
   "cell_type": "code",
   "execution_count": 26,
   "metadata": {},
   "outputs": [],
   "source": [
    "# Solve\n",
    "\n",
    "result = LA.lstsq(LHS, RHS, rcond=None)\n",
    "x = result[0]\n",
    "\n",
    "a_est = x[:100]\n",
    "theta_est = x[100:]\n",
    "\n",
    "s_1 = a_est + np.matmul(G_1, theta_est)\n",
    "s_2 = a_est + np.matmul(G_2, theta_est)"
   ]
  },
  {
   "cell_type": "code",
   "execution_count": 27,
   "metadata": {
    "scrolled": false
   },
   "outputs": [
    {
     "data": {
      "image/png": "[encoded data removed]",
      "text/plain": [
       "<Figure size 864x432 with 2 Axes>"
      ]
     },
     "metadata": {
      "needs_background": "light"
     },
     "output_type": "display_data"
    }
   ],
   "source": [
    "\n",
    "fig, ax = plt.subplots(1, 2, figsize=(12, 6))\n",
    "\n",
    "ax[0].scatter(ranks_1, s_1, color=\"teal\", edgecolor=\"white\", alpha=0.5)\n",
    "ax[0].set_xlabel(\"Planted ranks\")\n",
    "ax[0].set_ylabel(\"Recovered ranks\")\n",
    "ax[0].set_title(\"Setting #1\")\n",
    "\n",
    "ax[1].scatter(ranks_2, s_2, color=\"teal\", edgecolor=\"white\", alpha=0.5)\n",
    "ax[1].set_xlabel(\"Planted ranks\")\n",
    "ax[1].set_ylabel(\"Recovered ranks\")\n",
    "ax[1].set_title(\"Setting #2\")\n",
    "\n",
    "plt.show()"
   ]
  },
  {
   "cell_type": "code",
   "execution_count": 28,
   "metadata": {},
   "outputs": [
    {
     "data": {
      "text/plain": [
       "array([0.0334828, 0.       ])"
      ]
     },
     "execution_count": 28,
     "metadata": {},
     "output_type": "execute_result"
    }
   ],
   "source": [
    "theta_est - np.min(theta_est)"
   ]
  },
  {
   "cell_type": "code",
   "execution_count": 45,
   "metadata": {},
   "outputs": [],
   "source": [
    "a_1 = s_1 - np.matmul(G_1, theta_est)\n",
    "a_2 = s_2 - np.matmul(G_2, theta_est)"
   ]
  },
  {
   "cell_type": "code",
   "execution_count": 46,
   "metadata": {},
   "outputs": [
    {
     "data": {
      "text/plain": [
       "<matplotlib.collections.PathCollection at 0x22bc40b1780>"
      ]
     },
     "execution_count": 46,
     "metadata": {},
     "output_type": "execute_result"
    },
    {
     "data": {
      "image/png": "[encoded data removed]",
      "text/plain": [
       "<Figure size 432x288 with 1 Axes>"
      ]
     },
     "metadata": {
      "needs_background": "light"
     },
     "output_type": "display_data"
    }
   ],
   "source": [
    "plt.scatter(a_1, a_2)"
   ]
  },
  {
   "cell_type": "code",
   "execution_count": null,
   "metadata": {},
   "outputs": [],
   "source": []
  }
 ],
 "metadata": {
  "kernelspec": {
   "display_name": "Python 3",
   "language": "python",
   "name": "python3"
  },
  "language_info": {
   "codemirror_mode": {
    "name": "ipython",
    "version": 3
   },
   "file_extension": ".py",
   "mimetype": "text/x-python",
   "name": "python",
   "nbconvert_exporter": "python",
   "pygments_lexer": "ipython3",
   "version": "3.7.3"
  }
 },
 "nbformat": 4,
 "nbformat_minor": 2
}
