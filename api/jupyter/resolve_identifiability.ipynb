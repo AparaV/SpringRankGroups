{
 "cells": [
  {
   "cell_type": "code",
   "execution_count": 7,
   "metadata": {},
   "outputs": [
    {
     "name": "stdout",
     "output_type": "stream",
     "text": [
      "The autoreload extension is already loaded. To reload it, use:\n",
      "  %reload_ext autoreload\n"
     ]
    }
   ],
   "source": [
    "import networkx as nx\n",
    "import numpy as np\n",
    "import matplotlib.pyplot as plt\n",
    "import numpy.linalg as LA\n",
    "import scipy\n",
    "import pickle\n",
    "\n",
    "import sys\n",
    "sys.path.insert(1, '../')\n",
    "\n",
    "import SpringRank_tools as sr\n",
    "import tools as tl\n",
    "\n",
    "%load_ext autoreload\n",
    "%aimport SpringRank_tools\n",
    "%aimport tools\n",
    "%autoreload 1\n",
    "\n",
    "%matplotlib inline"
   ]
  },
  {
   "cell_type": "markdown",
   "metadata": {},
   "source": [
    "# Chess games\n",
    "\n",
    "- 100 players\n",
    "- 2 groups (white and black)\n",
    "- Can change groups "
   ]
  },
  {
   "cell_type": "code",
   "execution_count": 40,
   "metadata": {},
   "outputs": [],
   "source": [
    "N = 600\n",
    "beta = 0.4\n",
    "alpha = 1 \n",
    "K1 = 20\n",
    "K2 = 5\n",
    "p_ij = 1 / (1 + np.exp(-2*beta))\n",
    "\n",
    "variance = 1 / np.sqrt(alpha * beta)\n",
    "# individual_scores = np.random.normal(1, variance, N)\n",
    "\n",
    "a1 = list(np.random.normal(3, 5/2, 200))\n",
    "a2 = list(np.random.normal(0, 1, 200))\n",
    "a3 = list(np.random.normal(-3, 2, 200))\n",
    "individual_scores = np.array(a1+a2+a3)\n",
    "\n",
    "k = 4\n",
    "# theta = np.array([0.5, 0]) # white gets +0.5 advantage\n",
    "theta = np.random.uniform(-3, 3, size=k)\n",
    "\n",
    "groups_1 = np.random.randint(0, k, N)\n",
    "G_1 = np.zeros((N, k))\n",
    "for j, g_j in enumerate(groups_1):\n",
    "    G_1[j, g_j] = 1\n",
    "    \n",
    "ranks_1 = individual_scores + np.matmul(G_1, theta)\n",
    "ranks_1 = ranks_1 - np.min(ranks_1)\n",
    "    \n",
    "# G_2 = np.abs(G_1 - 1)\n",
    "groups_2 = np.random.randint(0, k, N)\n",
    "G_2 = np.zeros((N, k))\n",
    "for j, g_j in enumerate(groups_2):\n",
    "    G_2[j, g_j] = 1\n",
    "\n",
    "ranks_2 = individual_scores + np.matmul(G_2, theta)\n",
    "ranks_2 = ranks_2 - np.min(ranks_2)\n",
    "\n",
    "individual_scores = individual_scores - np.min(individual_scores)"
   ]
  },
  {
   "cell_type": "code",
   "execution_count": 41,
   "metadata": {},
   "outputs": [],
   "source": [
    "Z_1 = 0\n",
    "Z_2 = 0\n",
    "scaled_energy_1 = np.zeros((N, N))\n",
    "scaled_energy_2 = np.zeros((N, N))\n",
    "for i in range(N):\n",
    "    for j in range(N):\n",
    "        energy_1_ij = 0.5 * np.power(ranks_1[i] - ranks_1[j] - 1, 2)\n",
    "        scaled_energy_1[i, j] =  np.exp(-beta * energy_1_ij)\n",
    "        Z_1 += scaled_energy_1[i, j]\n",
    "        \n",
    "        energy_2_ij = 0.5 * np.power(ranks_2[i] - ranks_2[j] - 1, 2)\n",
    "        scaled_energy_2[i, j] =  np.exp(-beta * energy_2_ij)\n",
    "        Z_2 += scaled_energy_2[i, j]\n",
    "c_1 = K1*N / Z_1\n",
    "c_2 = K2*N / Z_2\n",
    "\n",
    "A_1 = np.zeros((N, N))\n",
    "A_2 = np.zeros((N, N))\n",
    "for i in range(N):\n",
    "    for j in range(N):\n",
    "        if i == j:\n",
    "            continue\n",
    "        if A_1[i, 0] == A_1[j, 1]:\n",
    "            A_1[i, j] = np.random.poisson(c_1 * scaled_energy_1[i, j])\n",
    "            A_2[i, j] = np.random.poisson(c_2 * scaled_energy_2[i, j])"
   ]
  },
  {
   "cell_type": "code",
   "execution_count": 42,
   "metadata": {},
   "outputs": [],
   "source": [
    "test_id = \"Test8\""
   ]
  },
  {
   "cell_type": "code",
   "execution_count": 43,
   "metadata": {},
   "outputs": [],
   "source": [
    "test_data = {\n",
    "    \"a\": individual_scores,\n",
    "    \"ranks1\": ranks_1,\n",
    "    \"ranks2\": ranks_2,\n",
    "    \"G1\": G_1,\n",
    "    \"G2\": G_2,\n",
    "    \"A1\": A_1,\n",
    "    \"A2\": A_2\n",
    "}\n",
    "\n",
    "with open(\"../../data/tests/\" + test_id + \"_data.pickle\", 'wb') as handle:\n",
    "    pickle.dump(test_data, handle, protocol=pickle.HIGHEST_PROTOCOL)"
   ]
  },
  {
   "cell_type": "code",
   "execution_count": 44,
   "metadata": {},
   "outputs": [],
   "source": [
    "with open(\"../../data/tests/\" + test_id + \"_data.pickle\", 'rb') as handle:\n",
    "    test_data = pickle.load(handle)\n",
    "\n",
    "individual_scores = test_data[\"a\"]\n",
    "ranks_1 = test_data[\"ranks1\"]\n",
    "ranks_2 = test_data[\"ranks2\"]\n",
    "A_1 = test_data[\"A1\"]\n",
    "A_2 = test_data[\"A2\"]\n",
    "G_1 = test_data[\"G1\"]\n",
    "G_2 = test_data[\"G2\"]"
   ]
  },
  {
   "cell_type": "markdown",
   "metadata": {},
   "source": [
    "## Solve"
   ]
  },
  {
   "cell_type": "code",
   "execution_count": 45,
   "metadata": {},
   "outputs": [],
   "source": [
    "# Construct full operator with Laplacian\n",
    "\n",
    "L1, d1 = tl.laplacian(A_1)\n",
    "L2, d2 = tl.laplacian(A_2)\n",
    "# k = 0.5\n",
    "# L2 = np.matmul(k*np.eye(N), L1)\n",
    "# d2 = k * d1\n",
    "\n",
    "LHS_top1 = np.concatenate((L1, np.matmul(L1, G_1)), axis=1)\n",
    "LHS_bot1 = np.concatenate((L2, np.matmul(L2, G_2)), axis=1)\n",
    "# LHS = np.concatenate((LHS_top1, LHS_bot1), axis=0)\n",
    "LHS = np.concatenate((LHS_top1, np.matmul(G_2.T, LHS_bot1)), axis=0)\n",
    "\n",
    "# RHS = np.concatenate((d1, d2), axis=0)\n",
    "RHS = np.concatenate((d1, np.matmul(G_2.T, d2)), axis=0)"
   ]
  },
  {
   "cell_type": "code",
   "execution_count": 46,
   "metadata": {},
   "outputs": [
    {
     "name": "stdout",
     "output_type": "stream",
     "text": [
      "Shape: (604, 604)\n",
      " Rank:  602\n"
     ]
    }
   ],
   "source": [
    "print(\"Shape:\", LHS.shape)\n",
    "print(\" Rank: \", LA.matrix_rank(LHS))"
   ]
  },
  {
   "cell_type": "code",
   "execution_count": 47,
   "metadata": {},
   "outputs": [],
   "source": [
    "# Solve\n",
    "result = LA.lstsq(LHS, RHS, rcond=None)\n",
    "x = result[0]\n",
    "\n",
    "a_est = x[:N]\n",
    "theta_est = x[N:]"
   ]
  },
  {
   "cell_type": "code",
   "execution_count": 48,
   "metadata": {},
   "outputs": [],
   "source": [
    "beta_hat = tl.get_temperature(a_est, A_1+A_2, p_ij=p_ij)\n",
    "\n",
    "a_est = (a_est - np.min(a_est)) * beta_hat\n",
    "theta_est = (theta_est - np.min(theta_est)) * beta_hat\n",
    "\n",
    "s_1 = a_est + np.matmul(G_1, theta_est)\n",
    "s_2 = a_est + np.matmul(G_2, theta_est)"
   ]
  },
  {
   "cell_type": "code",
   "execution_count": 49,
   "metadata": {},
   "outputs": [
    {
     "data": {
      "image/png": "[encoded data removed]",
      "text/plain": [
       "<Figure size 864x432 with 2 Axes>"
      ]
     },
     "metadata": {
      "needs_background": "light"
     },
     "output_type": "display_data"
    }
   ],
   "source": [
    "fig, ax = plt.subplots(1, 2, figsize=(12, 6))\n",
    "\n",
    "xy_line = [[np.min(np.minimum(individual_scores, a_est)), np.max(np.maximum(individual_scores, a_est))],\n",
    "           [np.min(np.minimum(theta, theta_est)), np.max(np.maximum(theta, theta_est))]]\n",
    "for i in range(2):\n",
    "    ax[i].spines['right'].set_visible(False)\n",
    "    ax[i].spines['top'].set_visible(False)\n",
    "    ax[i].plot(xy_line[i], xy_line[i], linestyle=\"dashed\", color=\"grey\", alpha=0.5)\n",
    "    ax[i].set_xlim(xy_line[i][0], xy_line[i][1]+0.1)\n",
    "    ax[i].set_ylim(xy_line[i][0], xy_line[i][1]+0.1)\n",
    "\n",
    "ax[0].scatter(individual_scores, a_est, color=\"teal\", edgecolor=\"white\", alpha=0.8, clip_on=False, zorder=100)\n",
    "ax[0].set_xlabel(r\"Planted individual scores ($a$)\")\n",
    "ax[0].set_ylabel(r\"Recovered individual scores ($\\hat{a}$)\")\n",
    "\n",
    "ax[1].scatter(theta, theta_est, color=\"orange\", edgecolor=\"white\", alpha=1, clip_on=False, zorder=100)\n",
    "ax[1].set_xlabel(r\"Planted group preferences ($\\theta$)\")\n",
    "ax[1].set_ylabel(r\"Recovered group preferences ($\\hat{\\theta}$)\")\n",
    "\n",
    "plt.savefig(\"../../figures/\" + test_id + \".PNG\", dpi=200, bbox_inches=\"tight\")\n",
    "\n",
    "plt.show()"
   ]
  },
  {
   "cell_type": "code",
   "execution_count": null,
   "metadata": {},
   "outputs": [],
   "source": []
  }
 ],
 "metadata": {
  "kernelspec": {
   "display_name": "Python 3",
   "language": "python",
   "name": "python3"
  },
  "language_info": {
   "codemirror_mode": {
    "name": "ipython",
    "version": 3
   },
   "file_extension": ".py",
   "mimetype": "text/x-python",
   "name": "python",
   "nbconvert_exporter": "python",
   "pygments_lexer": "ipython3",
   "version": "3.7.3"
  }
 },
 "nbformat": 4,
 "nbformat_minor": 2
}
