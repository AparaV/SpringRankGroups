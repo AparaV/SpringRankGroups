{
 "cells": [
  {
   "cell_type": "code",
   "execution_count": 1,
   "metadata": {},
   "outputs": [],
   "source": [
    "import numpy as np\n",
    "import matplotlib.pyplot as plt\n",
    "\n",
    "import scipy.sparse.linalg as spLA\n",
    "import numpy.linalg as LA\n",
    "\n",
    "import sys\n",
    "sys.path.insert(1, \"../\")\n",
    "\n",
    "import SpringRank_tools as sr\n",
    "import tools as tl\n",
    "\n",
    "%load_ext autoreload\n",
    "%aimport SpringRank_tools\n",
    "%aimport tools\n",
    "%autoreload 1\n",
    "\n",
    "%matplotlib inline"
   ]
  },
  {
   "cell_type": "markdown",
   "metadata": {},
   "source": [
    "## Message Kernels"
   ]
  },
  {
   "cell_type": "code",
   "execution_count": 2,
   "metadata": {},
   "outputs": [],
   "source": [
    "# Reply Kernel\n",
    "def p_reply(sender, replier, scale, shift):\n",
    "    logodds = np.log(scale/(1-scale))\n",
    "    score = sender - replier + shift\n",
    "    return 1/(1 + np.exp(-logodds * score))\n",
    "\n",
    "# First Message Kernel\n",
    "def kern(sender,receiver,scale,shift):\n",
    "    logodds = np.log(scale/(1-scale))\n",
    "    score = sender - receiver + shift\n",
    "    return 1/(1 + np.exp(-logodds * score))\n",
    "\n",
    "def p_first(sender, receiver, Lscale, Lshift, Rscale, Rshift):\n",
    "    a = kern(sender,receiver,Lscale,Lshift)\n",
    "    b = kern(sender,receiver,Rscale,Rshift)\n",
    "    return a*b"
   ]
  },
  {
   "cell_type": "markdown",
   "metadata": {},
   "source": [
    "## Simulation"
   ]
  },
  {
   "cell_type": "code",
   "execution_count": 21,
   "metadata": {},
   "outputs": [],
   "source": [
    "# Reply Kernel with discrimination\n",
    "def p_reply_disc(sender, replier, scale, shift, preference):\n",
    "    logodds = np.log(scale/(1-scale))\n",
    "    score = (sender + preference) - replier + shift\n",
    "    return 1/(1 + np.exp(-logodds * score))"
   ]
  },
  {
   "cell_type": "code",
   "execution_count": 135,
   "metadata": {},
   "outputs": [],
   "source": [
    "# N total (divisible by 2)\n",
    "N = 1000\n",
    "N_men = N // 2\n",
    "N_women = N // 2\n",
    "\n",
    "# Generate ranks\n",
    "# s_men = np.random.uniform(low=1, high=10, size=N_men)\n",
    "# s_women = np.random.uniform(low=1, high=10, size=N_women)\n",
    "s_men = np.random.normal(0, 1, size=N_men)\n",
    "s_women = np.random.normal(0, 1, size=N_women)\n",
    "\n",
    "# slopes\n",
    "discrimination = 0.8\n",
    "realism = 0.8\n",
    "\n",
    "# shifts\n",
    "delusion = 1\n",
    "ambition = 3\n",
    "\n",
    "# Assign groups\n",
    "num_groups_men = 4\n",
    "num_groups_women = 4\n",
    "g_men = np.random.randint(0, num_groups_men, size=N_men)\n",
    "g_women = np.random.randint(0, num_groups_women, size=N_women)\n",
    "\n",
    "# Construct G_m matrix for men\n",
    "G_m = np.zeros((N_men, num_groups))\n",
    "for man_id, group_id in enumerate(g_men):\n",
    "    G_m[man_id, group_id] = 1\n",
    "\n",
    "# discrimination\n",
    "group_pref = np.abs(np.random.normal(0, 1))\n",
    "group_disc = np.abs(np.random.normal(0, 1))\n",
    "\n",
    "Theta = np.zeros((num_groups_women, num_groups_men))\n",
    "for i in range(num_groups_women):\n",
    "    Theta[num_groups_women-1, i] = -group_disc\n",
    "    Theta[i, i] = group_pref # overwrite for last group\n",
    "    \n",
    "# Theta = np.random.randint(-group_disc, group_pref, size=(num_groups, num_groups))"
   ]
  },
  {
   "cell_type": "code",
   "execution_count": 136,
   "metadata": {
    "scrolled": true
   },
   "outputs": [
    {
     "name": "stdout",
     "output_type": "stream",
     "text": [
      "[[ 0.0109401   0.          0.          0.        ]\n",
      " [ 0.          0.0109401   0.          0.        ]\n",
      " [ 0.          0.          0.0109401   0.        ]\n",
      " [-0.16330336 -0.16330336 -0.16330336  0.0109401 ]]\n"
     ]
    }
   ],
   "source": [
    "print(Theta)"
   ]
  },
  {
   "cell_type": "code",
   "execution_count": 149,
   "metadata": {},
   "outputs": [
    {
     "name": "stdout",
     "output_type": "stream",
     "text": [
      "There were 125466 first messages sent. (50.2%)\n"
     ]
    }
   ],
   "source": [
    "msg_first = np.zeros([N_men,N_women])\n",
    "list_first = []\n",
    "for idxman,man in enumerate(s_men):\n",
    "    for idxwoman,woman in enumerate(s_women):\n",
    "        # is there a message?\n",
    "#         pr = p_first(man,woman,\n",
    "#                          Lscale=1-discrimination,\n",
    "#                          Lshift=delusion,\n",
    "#                          Rscale=realism,\n",
    "#                          Rshift=ambition)\n",
    "        pr = 0.5\n",
    "        msg_first[idxman,idxwoman] = np.random.binomial(1, pr)\n",
    "        if msg_first[idxman,idxwoman]==1:\n",
    "            list_first.append([idxman,idxwoman])\n",
    "\n",
    "print(\"There were {:.0f} first messages sent. ({:.1f}%)\".format(\n",
    "        np.sum(msg_first),\n",
    "        100*np.sum(msg_first)/(N_men*N_women)))"
   ]
  },
  {
   "cell_type": "code",
   "execution_count": 150,
   "metadata": {},
   "outputs": [
    {
     "name": "stdout",
     "output_type": "stream",
     "text": [
      "There were 37769 replies. (30.1%)\n"
     ]
    }
   ],
   "source": [
    "msg_reply = np.zeros([N_men,N_women])\n",
    "list_reply = []\n",
    "for first in list_first:\n",
    "    # is there a reply?\n",
    "    idxman = first[0]\n",
    "    idxwoman = first[1]\n",
    "    pr = p_reply_disc(s_men[idxman],s_women[idxwoman],\n",
    "                      scale=discrimination,\n",
    "                      shift=-delusion,\n",
    "                      preference=Theta[g_women[idxwoman], g_men[idxman]])\n",
    "    msg_reply[idxman,idxwoman] = np.random.binomial(1, pr)\n",
    "    if msg_reply[idxman,idxwoman]==1:\n",
    "        list_reply.append([idxman,idxwoman])\n",
    "        \n",
    "print(\"There were {:.0f} replies. ({:.1f}%)\".format(\n",
    "        np.sum(msg_reply),\n",
    "        100*np.sum(msg_reply)/np.sum(msg_first)))"
   ]
  },
  {
   "cell_type": "markdown",
   "metadata": {},
   "source": [
    "## Extract hierarchy"
   ]
  },
  {
   "cell_type": "code",
   "execution_count": 152,
   "metadata": {},
   "outputs": [],
   "source": [
    "# All the data that we need are in:\n",
    "# list_first[idxman,idxwoman]\n",
    "# list_reply[idxman,idxwoman]\n",
    "\n",
    "# Prep\n",
    "first = np.array(list_first)\n",
    "reply = np.array(list_reply)\n",
    "\n",
    "# Get the list of women who replied to anyone. This basically ends up being everyone...\n",
    "arbiters = np.unique(reply[:,1])\n",
    "\n",
    "# For each woman, determine who did not get a reply, and who did get a reply\n",
    "A = np.zeros([N_men,N_men],dtype=int)\n",
    "A_t = []\n",
    "for i in range(num_groups_women):\n",
    "    A_t.append(np.zeros([N_men, N_men]))\n",
    "\n",
    "for a in arbiters:\n",
    "    group_id = g_women[a]\n",
    "    gotReply = reply[reply[:,1]==a][:,0]\n",
    "    sentFirst = first[first[:,1]==a][:,0]\n",
    "    gotSilence = np.setdiff1d(sentFirst,gotReply)\n",
    "    for winner in gotReply:\n",
    "        for loser in gotSilence:\n",
    "            A[winner,loser] += 1\n",
    "            A_t[group_id][winner, loser] += 1"
   ]
  },
  {
   "cell_type": "markdown",
   "metadata": {},
   "source": [
    "## Groups"
   ]
  },
  {
   "cell_type": "code",
   "execution_count": 153,
   "metadata": {},
   "outputs": [],
   "source": [
    "l_a = 5e-2\n",
    "l_b = [5e-1, 2e-2, 1e-1, 3e-2]\n",
    "\n",
    "# Construct full Laplacian\n",
    "N = A.shape[0]\n",
    "k_in = np.sum(A, 0)\n",
    "k_out = np.sum(A, 1)\n",
    "L = np.diag(k_out + k_in) - (A + A.T)\n",
    "\n",
    "# Construct group Laplacians\n",
    "L_t = []\n",
    "k_t_in = []\n",
    "k_t_out = []\n",
    "for A_r in A_t:\n",
    "    N_r = A_r.shape[0]\n",
    "    k_r_in = np.sum(A_r, 0)\n",
    "    k_r_out = np.sum(A_r, 1)\n",
    "    L_r = np.diag(k_r_out + k_r_in) - (A_r + A_r.T)\n",
    "    \n",
    "    L_t.append(L_r)\n",
    "    k_t_in.append(k_r_in)\n",
    "    k_t_out.append(k_r_out)\n",
    "\n",
    "# Row 1\n",
    "LHS = L #+ l_a*np.eye(N_men)\n",
    "for L_r in L_t:\n",
    "    LHS = np.concatenate((LHS, np.matmul(L_r, G_m)), axis=1)\n",
    "RHS = k_out - k_in\n",
    "\n",
    "filler_matrix = np.zeros((num_groups_men, num_groups_men))\n",
    "\n",
    "# Row n\n",
    "for i, L_r in enumerate(L_t):\n",
    "    compressed = np.matmul(G_m.T, L_r)\n",
    "    row_n = compressed\n",
    "    block = np.matmul(compressed, G_m) #+ l_b[i]*np.eye(num_groups)\n",
    "    for j in range(num_groups_women):\n",
    "        if i == j:\n",
    "            row_n = np.concatenate((row_n, block), axis=1)\n",
    "        else:\n",
    "            row_n = np.concatenate((row_n, filler_matrix), axis=1)\n",
    "    LHS = np.concatenate((LHS, row_n), axis=0)\n",
    "    RHS = np.concatenate((RHS, np.matmul(G_m.T, k_t_out[i] - k_t_in[i])), axis=0)"
   ]
  },
  {
   "cell_type": "code",
   "execution_count": 154,
   "metadata": {},
   "outputs": [
    {
     "data": {
      "image/png": "[encoded data removed]",
      "text/plain": [
       "<Figure size 432x432 with 1 Axes>"
      ]
     },
     "metadata": {
      "needs_background": "light"
     },
     "output_type": "display_data"
    }
   ],
   "source": [
    "plt.figure(figsize=(6,6))\n",
    "plt.spy(LHS)\n",
    "# plt.spy(LHS[500:,500:])\n",
    "plt.show()"
   ]
  },
  {
   "cell_type": "code",
   "execution_count": 155,
   "metadata": {},
   "outputs": [
    {
     "name": "stdout",
     "output_type": "stream",
     "text": [
      "(516,)\n"
     ]
    }
   ],
   "source": [
    "output = spLA.bicgstab(LHS, RHS)\n",
    "x = output[0]\n",
    "print(x.shape)"
   ]
  },
  {
   "cell_type": "code",
   "execution_count": 156,
   "metadata": {},
   "outputs": [],
   "source": [
    "s_est = x[:N_men]\n",
    "Theta_est = np.zeros((num_groups_women, num_groups_men))\n",
    "for r in range(num_groups_women):\n",
    "    start_idx = N_men + (r*num_groups_men)\n",
    "    end_idx = N_men + (r*num_groups_men) + num_groups_men\n",
    "    theta_r = x[start_idx:end_idx]\n",
    "    for s, val in enumerate(theta_r):\n",
    "        Theta_est[r, s] = val"
   ]
  },
  {
   "cell_type": "code",
   "execution_count": 157,
   "metadata": {},
   "outputs": [
    {
     "name": "stdout",
     "output_type": "stream",
     "text": [
      "[[-0.01060371  0.0419492  -0.02715119 -0.00419429]\n",
      " [-0.01177575  0.04027194 -0.03334561  0.00484942]\n",
      " [-0.01995036  0.05535807 -0.03437323 -0.00103448]\n",
      " [-0.04691472  0.02099455 -0.03913182  0.06505199]]\n"
     ]
    }
   ],
   "source": [
    "print(Theta_est)"
   ]
  },
  {
   "cell_type": "code",
   "execution_count": 158,
   "metadata": {},
   "outputs": [
    {
     "name": "stdout",
     "output_type": "stream",
     "text": [
      "[[ 0.0109401   0.          0.          0.        ]\n",
      " [ 0.          0.0109401   0.          0.        ]\n",
      " [ 0.          0.          0.0109401   0.        ]\n",
      " [-0.16330336 -0.16330336 -0.16330336  0.0109401 ]]\n"
     ]
    }
   ],
   "source": [
    "print(Theta)"
   ]
  },
  {
   "cell_type": "code",
   "execution_count": 159,
   "metadata": {
    "scrolled": true
   },
   "outputs": [],
   "source": [
    "s_est = tl.adjust_ranks(s_est, A, p_ij=0.8, least_rank=0)\n",
    "\n",
    "s_est_g = s_est - np.matmul(G_m, Theta_est.sum(axis=0))\n",
    "s_est_g = tl.adjust_ranks(s_est_g, A, p_ij=0.8, least_rank=1)"
   ]
  },
  {
   "cell_type": "code",
   "execution_count": 162,
   "metadata": {},
   "outputs": [
    {
     "data": {
      "image/png": "[encoded data removed]",
      "text/plain": [
       "<Figure size 360x360 with 1 Axes>"
      ]
     },
     "metadata": {
      "needs_background": "light"
     },
     "output_type": "display_data"
    }
   ],
   "source": [
    "fig,ax = plt.subplots(1,1,figsize=(5,5))\n",
    "\n",
    "ax.scatter(s_men - np.min(s_men), s_est_g,\n",
    "           alpha=0.4,\n",
    "           color='teal',\n",
    "           edgecolor='white',\n",
    "           label='{:.0f} first msgs, {:.0f} replies'.format(np.sum(msg_first),np.sum(msg_reply))\n",
    "          )\n",
    "ax.set_xlabel('God-given Desirability (planted)')\n",
    "ax.set_ylabel('SpringRank Score (recovered)')\n",
    "# ax.set_square()\n",
    "# ax.set_aspect('equal', 'box')\n",
    "# ax.set_ylim([1,10])\n",
    "# ax.set_xlim([1,10])\n",
    "plt.tight_layout()"
   ]
  },
  {
   "cell_type": "code",
   "execution_count": 345,
   "metadata": {},
   "outputs": [],
   "source": [
    "temperature = tl.get_temperature(s_est, A, p_ij=0.8, interval=(0.01, 20))"
   ]
  },
  {
   "cell_type": "code",
   "execution_count": 161,
   "metadata": {},
   "outputs": [
    {
     "data": {
      "image/png": "[encoded data removed]",
      "text/plain": [
       "<Figure size 360x360 with 1 Axes>"
      ]
     },
     "metadata": {
      "needs_background": "light"
     },
     "output_type": "display_data"
    }
   ],
   "source": [
    "scale = 1\n",
    "# shift = np.array([-4, 3, 0, 4]).T\n",
    "shift = -np.min(Theta_est, axis=0)\n",
    "\n",
    "plt.figure(figsize=(5,5))\n",
    "plt.scatter(Theta.flatten(),\n",
    "            scale * (Theta_est).flatten(),\n",
    "           alpha=0.5,\n",
    "           color='deeppink',\n",
    "           edgecolor='white')\n",
    "\n",
    "# plt.scatter(Theta.sum(axis=0),\n",
    "#             Theta_est.sum(axis=0),\n",
    "#            alpha=0.5,\n",
    "#            color='deeppink',\n",
    "#            edgecolor='white')\n",
    "\n",
    "\n",
    "plt.xlabel(\"Ground truth\")\n",
    "plt.ylabel(\"Estimates\")\n",
    "\n",
    "plt.show()"
   ]
  },
  {
   "cell_type": "code",
   "execution_count": null,
   "metadata": {},
   "outputs": [],
   "source": []
  }
 ],
 "metadata": {
  "kernelspec": {
   "display_name": "Python 3",
   "language": "python",
   "name": "python3"
  },
  "language_info": {
   "codemirror_mode": {
    "name": "ipython",
    "version": 3
   },
   "file_extension": ".py",
   "mimetype": "text/x-python",
   "name": "python",
   "nbconvert_exporter": "python",
   "pygments_lexer": "ipython3",
   "version": "3.7.3"
  }
 },
 "nbformat": 4,
 "nbformat_minor": 2
}
